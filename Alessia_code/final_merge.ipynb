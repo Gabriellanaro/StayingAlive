{
 "cells": [
  {
   "cell_type": "code",
   "execution_count": 1,
   "metadata": {},
   "outputs": [],
   "source": [
    "import pandas as pd\n",
    "import geopandas as gpd\n",
    "from shapely.geometry import Point\n",
    "from datetime import datetime\n",
    "import numpy as np"
   ]
  },
  {
   "cell_type": "code",
   "execution_count": 2,
   "metadata": {},
   "outputs": [],
   "source": [
    "# --- 1) Parameters ---\n",
    "radius_m = 200"
   ]
  },
  {
   "cell_type": "code",
   "execution_count": 3,
   "metadata": {},
   "outputs": [],
   "source": [
    "# --- 2) Load your grid (interpolated traffic + zip/pop columns) ---\n",
    "grid = pd.read_csv(\"pedestrian_with_zip_stats.csv\")\n",
    "grid_gdf = gpd.GeoDataFrame(\n",
    "    grid,\n",
    "    geometry=gpd.points_from_xy(grid.longitude, grid.latitude),\n",
    "    crs=\"EPSG:4326\"\n",
    ").to_crs(epsg=3857)\n"
   ]
  },
  {
   "cell_type": "code",
   "execution_count": 4,
   "metadata": {},
   "outputs": [],
   "source": [
    "# --- 3) Load your restaurants dataset ---\n",
    "rest = pd.read_csv(\n",
    "    \"mergedFinal.csv\",\n",
    "    parse_dates=[\"Opening_Date\", \"Closing_Date\"],  # match your column names\n",
    "    dayfirst=True\n",
    ")\n",
    "rest = rest.drop(columns=[\"Duration_in_Days\", \"Status\"])\n",
    "\n",
    "# rename columns for consistency\n",
    "rest = rest.rename(columns={\n",
    "    \"Opening_Date\": \"startdate\",\n",
    "    \"Closing_Date\": \"enddate\",\n",
    "    \"Price_Level\": \"price_level\"\n",
    "})\n",
    "rest_gdf = gpd.GeoDataFrame(\n",
    "    rest,\n",
    "    geometry=gpd.points_from_xy(rest.Longitude, rest.Latitude),\n",
    "    crs=\"EPSG:4326\"\n",
    ").to_crs(epsg=3857)"
   ]
  },
  {
   "cell_type": "code",
   "execution_count": 5,
   "metadata": {},
   "outputs": [],
   "source": [
    "# --- 4) Compute each restaurant’s survival time in days ---\n",
    "today = pd.Timestamp(datetime.today())\n",
    "rest_gdf[\"survival_days\"] = (rest_gdf[\"enddate\"].fillna(today) - rest_gdf[\"startdate\"]).dt.days\n"
   ]
  },
  {
   "cell_type": "code",
   "execution_count": 6,
   "metadata": {},
   "outputs": [],
   "source": [
    "# --- 5) Build a buffer polygon around each grid point ---\n",
    "buffers = grid_gdf.copy()\n",
    "buffers[\"geometry\"] = grid_gdf.geometry.buffer(radius_m)"
   ]
  },
  {
   "cell_type": "code",
   "execution_count": 7,
   "metadata": {},
   "outputs": [],
   "source": [
    "# --- 6) Spatial‐join restaurants INTO buffers ---\n",
    "joined = gpd.sjoin(\n",
    "    rest_gdf,\n",
    "    buffers[[\"geometry\"]],\n",
    "    how=\"inner\",\n",
    "    predicate=\"within\"\n",
    ").rename(columns={\"index_right\":\"grid_index\"})"
   ]
  },
  {
   "cell_type": "code",
   "execution_count": 8,
   "metadata": {},
   "outputs": [],
   "source": [
    "# --- 7) Aggregate stats per grid_index ---\n",
    "def agg_stats(df):\n",
    "    now3 = today - pd.DateOffset(years=3)\n",
    "\n",
    "    # basic survival & counts\n",
    "    total = len(df)\n",
    "    closed = df[\"enddate\"].notna().sum()\n",
    "    open_ = total - closed\n",
    "    sd = df[\"survival_days\"]\n",
    "\n",
    "    # new: mean rating, reviews, price level\n",
    "    mean_rating = df[\"Rating\"].mean()\n",
    "    mean_reviews = df[\"Number_of_Reviews\"].mean()\n",
    "    mean_price = df[\"price_level\"].mean()\n",
    "\n",
    "    return pd.Series({\n",
    "        \"num_restaurants_total\": total,\n",
    "        \"num_restaurants_open\": open_,\n",
    "        \"num_restaurants_closed\": closed,\n",
    "        \"avg_survival_days\": sd.mean(),\n",
    "        \"median_survival_days\": sd.median(),\n",
    "        \"avg_survival_months\": sd.mean() / 30.44,\n",
    "        \"avg_survival_years\": sd.mean() / 365.25,\n",
    "        \"openings_last_3_years\": (df[\"startdate\"] >= now3).sum(),\n",
    "        \"closures_last_3_years\": (df[\"enddate\"] >= now3).sum(),\n",
    "        # new aggregated metrics\n",
    "        \"mean_rating\": mean_rating,\n",
    "        \"mean_reviews\": mean_reviews,\n",
    "        \"mean_price_level\": mean_price,\n",
    "    })\n",
    "\n",
    "stats = joined.groupby(\"grid_index\").apply(agg_stats)"
   ]
  },
  {
   "cell_type": "code",
   "execution_count": 9,
   "metadata": {},
   "outputs": [],
   "source": [
    "# --- 8) Compute code‐counts pivot table and join to stats ---\n",
    "code_counts = (\n",
    "    joined.groupby([\"grid_index\", \"Branchekod\"])\n",
    "          .size()\n",
    "          .unstack(fill_value=0)\n",
    "          .add_prefix(\"code_\")\n",
    ")\n",
    "stats = stats.join(code_counts, how=\"left\").fillna(0)"
   ]
  },
  {
   "cell_type": "code",
   "execution_count": 10,
   "metadata": {},
   "outputs": [],
   "source": [
    "# --- 9) Merge stats back onto your grid points ---\n",
    "result = grid_gdf.join(stats, how=\"left\").fillna({\n",
    "    # fill zeros for numeric fields\n",
    "    **{c: 0 for c in stats.columns}\n",
    "})"
   ]
  },
  {
   "cell_type": "code",
   "execution_count": 11,
   "metadata": {},
   "outputs": [],
   "source": [
    "# --- 10) Reproject back to lat/lon ---\n",
    "out = result.to_crs(epsg=4326)\n",
    "out[\"latitude\"]  = out.geometry.y\n",
    "out[\"longitude\"] = out.geometry.x"
   ]
  },
  {
   "cell_type": "code",
   "execution_count": 12,
   "metadata": {},
   "outputs": [],
   "source": [
    "# --- 11) Select only the requested columns plus new ones ---\n",
    "final_cols = [\n",
    "    \"latitude\",\"longitude\",\n",
    "    \"aadt_fod_7_19\",\"hvdt_fod_7_19\",\n",
    "    \"postal_code\",\"Total\",\"Men\",\"Women\",\"population_density_km2\",\n",
    "    # old survival & count stats\n",
    "    \"num_restaurants_total\",\"num_restaurants_open\",\"num_restaurants_closed\",\n",
    "    \"avg_survival_days\",\"median_survival_days\",\n",
    "    \"avg_survival_months\",\"avg_survival_years\",\n",
    "    \"openings_last_3_years\",\"closures_last_3_years\",\n",
    "    # new means\n",
    "    \"mean_rating\",\"mean_reviews\",\"mean_price_level\",\n",
    "    # all the dynamic code_* columns\n",
    "] + [col for col in stats.columns if col.startswith(\"code_\")]\n",
    "\n",
    "final_df = out[final_cols].copy()\n"
   ]
  },
  {
   "cell_type": "code",
   "execution_count": 13,
   "metadata": {},
   "outputs": [
    {
     "data": {
      "application/vnd.microsoft.datawrangler.viewer.v0+json": {
       "columns": [
        {
         "name": "index",
         "rawType": "int64",
         "type": "integer"
        },
        {
         "name": "latitude",
         "rawType": "float64",
         "type": "float"
        },
        {
         "name": "longitude",
         "rawType": "float64",
         "type": "float"
        },
        {
         "name": "aadt_fod_7_19",
         "rawType": "float64",
         "type": "float"
        },
        {
         "name": "hvdt_fod_7_19",
         "rawType": "float64",
         "type": "float"
        },
        {
         "name": "postal_code",
         "rawType": "int64",
         "type": "integer"
        },
        {
         "name": "Total",
         "rawType": "float64",
         "type": "float"
        },
        {
         "name": "Men",
         "rawType": "float64",
         "type": "float"
        },
        {
         "name": "Women",
         "rawType": "float64",
         "type": "float"
        },
        {
         "name": "population_density_km2",
         "rawType": "float64",
         "type": "float"
        },
        {
         "name": "num_restaurants_total",
         "rawType": "float64",
         "type": "float"
        },
        {
         "name": "num_restaurants_open",
         "rawType": "float64",
         "type": "float"
        },
        {
         "name": "num_restaurants_closed",
         "rawType": "float64",
         "type": "float"
        },
        {
         "name": "avg_survival_days",
         "rawType": "float64",
         "type": "float"
        },
        {
         "name": "median_survival_days",
         "rawType": "float64",
         "type": "float"
        },
        {
         "name": "avg_survival_months",
         "rawType": "float64",
         "type": "float"
        },
        {
         "name": "avg_survival_years",
         "rawType": "float64",
         "type": "float"
        },
        {
         "name": "openings_last_3_years",
         "rawType": "float64",
         "type": "float"
        },
        {
         "name": "closures_last_3_years",
         "rawType": "float64",
         "type": "float"
        },
        {
         "name": "mean_rating",
         "rawType": "float64",
         "type": "float"
        },
        {
         "name": "mean_reviews",
         "rawType": "float64",
         "type": "float"
        },
        {
         "name": "mean_price_level",
         "rawType": "float64",
         "type": "float"
        },
        {
         "name": "code_561110",
         "rawType": "float64",
         "type": "float"
        },
        {
         "name": "code_561190",
         "rawType": "float64",
         "type": "float"
        },
        {
         "name": "code_563010",
         "rawType": "float64",
         "type": "float"
        }
       ],
       "conversionMethod": "pd.DataFrame",
       "ref": "fa72bd71-d968-4d31-96f0-e57cc1b18e26",
       "rows": [
        [
         "0",
         "55.707340260693314",
         "12.454836659472251",
         "1305.5447211621783",
         "1333.89665643193",
         "2700",
         "45950.0",
         "22892.0",
         "23058.0",
         "5603.658536585366",
         "0.0",
         "0.0",
         "0.0",
         "0.0",
         "0.0",
         "0.0",
         "0.0",
         "0.0",
         "0.0",
         "0.0",
         "0.0",
         "0.0",
         "0.0",
         "0.0",
         "0.0"
        ],
        [
         "1",
         "55.708352505556064",
         "12.454836659472251",
         "1207.5644695294748",
         "1232.454639439938",
         "2700",
         "45950.0",
         "22892.0",
         "23058.0",
         "5603.658536585366",
         "0.0",
         "0.0",
         "0.0",
         "0.0",
         "0.0",
         "0.0",
         "0.0",
         "0.0",
         "0.0",
         "0.0",
         "0.0",
         "0.0",
         "0.0",
         "0.0",
         "0.0"
        ],
        [
         "2",
         "55.70936472419531",
         "12.454836659472251",
         "1095.3440117216376",
         "1116.3210904035104",
         "2700",
         "45950.0",
         "22892.0",
         "23058.0",
         "5603.658536585366",
         "0.0",
         "0.0",
         "0.0",
         "0.0",
         "0.0",
         "0.0",
         "0.0",
         "0.0",
         "0.0",
         "0.0",
         "0.0",
         "0.0",
         "0.0",
         "0.0",
         "0.0"
        ],
        [
         "3",
         "55.710376916611395",
         "12.454836659472251",
         "994.907609226339",
         "1012.3865434231318",
         "2700",
         "45950.0",
         "22892.0",
         "23058.0",
         "5603.658536585366",
         "0.0",
         "0.0",
         "0.0",
         "0.0",
         "0.0",
         "0.0",
         "0.0",
         "0.0",
         "0.0",
         "0.0",
         "0.0",
         "0.0",
         "0.0",
         "0.0",
         "0.0"
        ],
        [
         "4",
         "55.711389082804686",
         "12.454836659472251",
         "936.4479677522326",
         "951.8985829984506",
         "2700",
         "45950.0",
         "22892.0",
         "23058.0",
         "5603.658536585366",
         "0.0",
         "0.0",
         "0.0",
         "0.0",
         "0.0",
         "0.0",
         "0.0",
         "0.0",
         "0.0",
         "0.0",
         "0.0",
         "0.0",
         "0.0",
         "0.0",
         "0.0"
        ]
       ],
       "shape": {
        "columns": 24,
        "rows": 5
       }
      },
      "text/html": [
       "<div>\n",
       "<style scoped>\n",
       "    .dataframe tbody tr th:only-of-type {\n",
       "        vertical-align: middle;\n",
       "    }\n",
       "\n",
       "    .dataframe tbody tr th {\n",
       "        vertical-align: top;\n",
       "    }\n",
       "\n",
       "    .dataframe thead th {\n",
       "        text-align: right;\n",
       "    }\n",
       "</style>\n",
       "<table border=\"1\" class=\"dataframe\">\n",
       "  <thead>\n",
       "    <tr style=\"text-align: right;\">\n",
       "      <th></th>\n",
       "      <th>latitude</th>\n",
       "      <th>longitude</th>\n",
       "      <th>aadt_fod_7_19</th>\n",
       "      <th>hvdt_fod_7_19</th>\n",
       "      <th>postal_code</th>\n",
       "      <th>Total</th>\n",
       "      <th>Men</th>\n",
       "      <th>Women</th>\n",
       "      <th>population_density_km2</th>\n",
       "      <th>num_restaurants_total</th>\n",
       "      <th>...</th>\n",
       "      <th>avg_survival_months</th>\n",
       "      <th>avg_survival_years</th>\n",
       "      <th>openings_last_3_years</th>\n",
       "      <th>closures_last_3_years</th>\n",
       "      <th>mean_rating</th>\n",
       "      <th>mean_reviews</th>\n",
       "      <th>mean_price_level</th>\n",
       "      <th>code_561110</th>\n",
       "      <th>code_561190</th>\n",
       "      <th>code_563010</th>\n",
       "    </tr>\n",
       "  </thead>\n",
       "  <tbody>\n",
       "    <tr>\n",
       "      <th>0</th>\n",
       "      <td>55.707340</td>\n",
       "      <td>12.454837</td>\n",
       "      <td>1305.544721</td>\n",
       "      <td>1333.896656</td>\n",
       "      <td>2700</td>\n",
       "      <td>45950.0</td>\n",
       "      <td>22892.0</td>\n",
       "      <td>23058.0</td>\n",
       "      <td>5603.658537</td>\n",
       "      <td>0.0</td>\n",
       "      <td>...</td>\n",
       "      <td>0.0</td>\n",
       "      <td>0.0</td>\n",
       "      <td>0.0</td>\n",
       "      <td>0.0</td>\n",
       "      <td>0.0</td>\n",
       "      <td>0.0</td>\n",
       "      <td>0.0</td>\n",
       "      <td>0.0</td>\n",
       "      <td>0.0</td>\n",
       "      <td>0.0</td>\n",
       "    </tr>\n",
       "    <tr>\n",
       "      <th>1</th>\n",
       "      <td>55.708353</td>\n",
       "      <td>12.454837</td>\n",
       "      <td>1207.564470</td>\n",
       "      <td>1232.454639</td>\n",
       "      <td>2700</td>\n",
       "      <td>45950.0</td>\n",
       "      <td>22892.0</td>\n",
       "      <td>23058.0</td>\n",
       "      <td>5603.658537</td>\n",
       "      <td>0.0</td>\n",
       "      <td>...</td>\n",
       "      <td>0.0</td>\n",
       "      <td>0.0</td>\n",
       "      <td>0.0</td>\n",
       "      <td>0.0</td>\n",
       "      <td>0.0</td>\n",
       "      <td>0.0</td>\n",
       "      <td>0.0</td>\n",
       "      <td>0.0</td>\n",
       "      <td>0.0</td>\n",
       "      <td>0.0</td>\n",
       "    </tr>\n",
       "    <tr>\n",
       "      <th>2</th>\n",
       "      <td>55.709365</td>\n",
       "      <td>12.454837</td>\n",
       "      <td>1095.344012</td>\n",
       "      <td>1116.321090</td>\n",
       "      <td>2700</td>\n",
       "      <td>45950.0</td>\n",
       "      <td>22892.0</td>\n",
       "      <td>23058.0</td>\n",
       "      <td>5603.658537</td>\n",
       "      <td>0.0</td>\n",
       "      <td>...</td>\n",
       "      <td>0.0</td>\n",
       "      <td>0.0</td>\n",
       "      <td>0.0</td>\n",
       "      <td>0.0</td>\n",
       "      <td>0.0</td>\n",
       "      <td>0.0</td>\n",
       "      <td>0.0</td>\n",
       "      <td>0.0</td>\n",
       "      <td>0.0</td>\n",
       "      <td>0.0</td>\n",
       "    </tr>\n",
       "    <tr>\n",
       "      <th>3</th>\n",
       "      <td>55.710377</td>\n",
       "      <td>12.454837</td>\n",
       "      <td>994.907609</td>\n",
       "      <td>1012.386543</td>\n",
       "      <td>2700</td>\n",
       "      <td>45950.0</td>\n",
       "      <td>22892.0</td>\n",
       "      <td>23058.0</td>\n",
       "      <td>5603.658537</td>\n",
       "      <td>0.0</td>\n",
       "      <td>...</td>\n",
       "      <td>0.0</td>\n",
       "      <td>0.0</td>\n",
       "      <td>0.0</td>\n",
       "      <td>0.0</td>\n",
       "      <td>0.0</td>\n",
       "      <td>0.0</td>\n",
       "      <td>0.0</td>\n",
       "      <td>0.0</td>\n",
       "      <td>0.0</td>\n",
       "      <td>0.0</td>\n",
       "    </tr>\n",
       "    <tr>\n",
       "      <th>4</th>\n",
       "      <td>55.711389</td>\n",
       "      <td>12.454837</td>\n",
       "      <td>936.447968</td>\n",
       "      <td>951.898583</td>\n",
       "      <td>2700</td>\n",
       "      <td>45950.0</td>\n",
       "      <td>22892.0</td>\n",
       "      <td>23058.0</td>\n",
       "      <td>5603.658537</td>\n",
       "      <td>0.0</td>\n",
       "      <td>...</td>\n",
       "      <td>0.0</td>\n",
       "      <td>0.0</td>\n",
       "      <td>0.0</td>\n",
       "      <td>0.0</td>\n",
       "      <td>0.0</td>\n",
       "      <td>0.0</td>\n",
       "      <td>0.0</td>\n",
       "      <td>0.0</td>\n",
       "      <td>0.0</td>\n",
       "      <td>0.0</td>\n",
       "    </tr>\n",
       "  </tbody>\n",
       "</table>\n",
       "<p>5 rows × 24 columns</p>\n",
       "</div>"
      ],
      "text/plain": [
       "    latitude  longitude  aadt_fod_7_19  hvdt_fod_7_19  postal_code    Total  \\\n",
       "0  55.707340  12.454837    1305.544721    1333.896656         2700  45950.0   \n",
       "1  55.708353  12.454837    1207.564470    1232.454639         2700  45950.0   \n",
       "2  55.709365  12.454837    1095.344012    1116.321090         2700  45950.0   \n",
       "3  55.710377  12.454837     994.907609    1012.386543         2700  45950.0   \n",
       "4  55.711389  12.454837     936.447968     951.898583         2700  45950.0   \n",
       "\n",
       "       Men    Women  population_density_km2  num_restaurants_total  ...  \\\n",
       "0  22892.0  23058.0             5603.658537                    0.0  ...   \n",
       "1  22892.0  23058.0             5603.658537                    0.0  ...   \n",
       "2  22892.0  23058.0             5603.658537                    0.0  ...   \n",
       "3  22892.0  23058.0             5603.658537                    0.0  ...   \n",
       "4  22892.0  23058.0             5603.658537                    0.0  ...   \n",
       "\n",
       "   avg_survival_months  avg_survival_years  openings_last_3_years  \\\n",
       "0                  0.0                 0.0                    0.0   \n",
       "1                  0.0                 0.0                    0.0   \n",
       "2                  0.0                 0.0                    0.0   \n",
       "3                  0.0                 0.0                    0.0   \n",
       "4                  0.0                 0.0                    0.0   \n",
       "\n",
       "   closures_last_3_years  mean_rating  mean_reviews  mean_price_level  \\\n",
       "0                    0.0          0.0           0.0               0.0   \n",
       "1                    0.0          0.0           0.0               0.0   \n",
       "2                    0.0          0.0           0.0               0.0   \n",
       "3                    0.0          0.0           0.0               0.0   \n",
       "4                    0.0          0.0           0.0               0.0   \n",
       "\n",
       "   code_561110  code_561190  code_563010  \n",
       "0          0.0          0.0          0.0  \n",
       "1          0.0          0.0          0.0  \n",
       "2          0.0          0.0          0.0  \n",
       "3          0.0          0.0          0.0  \n",
       "4          0.0          0.0          0.0  \n",
       "\n",
       "[5 rows x 24 columns]"
      ]
     },
     "execution_count": 13,
     "metadata": {},
     "output_type": "execute_result"
    }
   ],
   "source": [
    "final_df.head()"
   ]
  },
  {
   "cell_type": "code",
   "execution_count": 14,
   "metadata": {},
   "outputs": [
    {
     "name": "stdout",
     "output_type": "stream",
     "text": [
      "Saved grid_with_all_restaurant_stats.csv\n"
     ]
    }
   ],
   "source": [
    "# --- 12) Save ---\n",
    "final_df.to_csv(\"df_survival_analysis.csv\", index=False)\n",
    "print(\"Saved grid_with_all_restaurant_stats.csv\")"
   ]
  },
  {
   "cell_type": "code",
   "execution_count": null,
   "metadata": {},
   "outputs": [],
   "source": []
  }
 ],
 "metadata": {
  "kernelspec": {
   "display_name": "course02509",
   "language": "python",
   "name": "python3"
  },
  "language_info": {
   "codemirror_mode": {
    "name": "ipython",
    "version": 3
   },
   "file_extension": ".py",
   "mimetype": "text/x-python",
   "name": "python",
   "nbconvert_exporter": "python",
   "pygments_lexer": "ipython3",
   "version": "3.9.18"
  }
 },
 "nbformat": 4,
 "nbformat_minor": 2
}
