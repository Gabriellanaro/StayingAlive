{
 "cells": [
  {
   "cell_type": "code",
   "execution_count": 4,
   "id": "54ba528c",
   "metadata": {},
   "outputs": [
    {
     "name": "stdout",
     "output_type": "stream",
     "text": [
      "<class 'pandas.core.frame.DataFrame'>\n",
      "RangeIndex: 4343 entries, 0 to 4342\n",
      "Data columns (total 8 columns):\n",
      " #   Column       Non-Null Count  Dtype \n",
      "---  ------       --------------  ----- \n",
      " 0   Name         4343 non-null   object\n",
      " 1   Address      4343 non-null   object\n",
      " 2   P-nummer     4343 non-null   int64 \n",
      " 3   Startdate    4306 non-null   object\n",
      " 4   Enddate      188 non-null    object\n",
      " 5   code         4343 non-null   int64 \n",
      " 6   active       4343 non-null   bool  \n",
      " 7   postal_code  4343 non-null   int64 \n",
      "dtypes: bool(1), int64(3), object(4)\n",
      "memory usage: 241.9+ KB\n"
     ]
    }
   ],
   "source": [
    "import pandas as pd\n",
    "import numpy as np\n",
    "\n",
    "\n",
    "restaurants_ds = pd.read_csv(\"restaurants_df.csv\")\n",
    "restaurants_ds.info()"
   ]
  },
  {
   "cell_type": "code",
   "execution_count": 5,
   "id": "c07fe411",
   "metadata": {},
   "outputs": [
    {
     "name": "stdout",
     "output_type": "stream",
     "text": [
      "<class 'pandas.core.frame.DataFrame'>\n",
      "RangeIndex: 474 entries, 0 to 473\n",
      "Data columns (total 10 columns):\n",
      " #   Column                  Non-Null Count  Dtype  \n",
      "---  ------                  --------------  -----  \n",
      " 0   neighborhood_code       474 non-null    int64  \n",
      " 1   neighborhood_name       474 non-null    object \n",
      " 2   postal_code             474 non-null    int64  \n",
      " 3   postal_area             474 non-null    object \n",
      " 4   postal_code_m2          474 non-null    int64  \n",
      " 5   Total                   474 non-null    int64  \n",
      " 6   Men                     474 non-null    int64  \n",
      " 7   Women                   474 non-null    int64  \n",
      " 8   population_density_km2  471 non-null    float64\n",
      " 9   restaurant_count        474 non-null    int64  \n",
      "dtypes: float64(1), int64(7), object(2)\n",
      "memory usage: 37.2+ KB\n"
     ]
    }
   ],
   "source": [
    "population_ds = pd.read_csv(\"population_df.csv\")\n",
    "population_ds.info()"
   ]
  },
  {
   "cell_type": "code",
   "execution_count": 48,
   "id": "08985a9f",
   "metadata": {},
   "outputs": [
    {
     "name": "stdout",
     "output_type": "stream",
     "text": [
      "<class 'pandas.core.frame.DataFrame'>\n",
      "RangeIndex: 7062 entries, 0 to 7061\n",
      "Data columns (total 4 columns):\n",
      " #   Column         Non-Null Count  Dtype  \n",
      "---  ------         --------------  -----  \n",
      " 0   latitude       7062 non-null   float64\n",
      " 1   longitude      7062 non-null   float64\n",
      " 2   aadt_fod_7_19  7062 non-null   float64\n",
      " 3   hvdt_fod_7_19  7062 non-null   float64\n",
      "dtypes: float64(4)\n",
      "memory usage: 220.8 KB\n"
     ]
    }
   ],
   "source": [
    "footTraffic_ds = pd.read_csv(\n",
    "    \"C:/Users/Dell/OneDrive - Danmarks Tekniske Universitet/Git Hub/StayingAlive/expanded_pedestrian_traffic_interpolated.csv\"\n",
    ")\n",
    "footTraffic_ds.info()"
   ]
  },
  {
   "cell_type": "code",
   "execution_count": 16,
   "id": "74292c14",
   "metadata": {},
   "outputs": [
    {
     "name": "stdout",
     "output_type": "stream",
     "text": [
      "<class 'pandas.core.frame.DataFrame'>\n",
      "RangeIndex: 4552 entries, 0 to 4551\n",
      "Data columns (total 7 columns):\n",
      " #   Column         Non-Null Count  Dtype  \n",
      "---  ------         --------------  -----  \n",
      " 0   Input Name     4552 non-null   object \n",
      " 1   Input Address  4552 non-null   object \n",
      " 2   Title          2527 non-null   object \n",
      " 3   Rating         2397 non-null   object \n",
      " 4   Reviews        2372 non-null   float64\n",
      " 5   Price Level    920 non-null    object \n",
      " 6   Tags           1603 non-null   object \n",
      "dtypes: float64(1), object(6)\n",
      "memory usage: 249.1+ KB\n"
     ]
    }
   ],
   "source": [
    "mapsReviews_ds = pd.read_csv(\"scraping_correct/Datasets/maps_data_scraped.csv\")\n",
    "mapsReviews_ds.info()"
   ]
  },
  {
   "cell_type": "code",
   "execution_count": 17,
   "id": "67cc5356",
   "metadata": {},
   "outputs": [],
   "source": [
    "# mapping price level\n",
    "# Mappatura basata sulla reference che abbiamo deciso\n",
    "price_mapping = {\n",
    "    \"1-100 kr a persona\": 1,\n",
    "    \"1-200 kr a persona\": 1,\n",
    "    \"100-200 kr a persona\": 1,\n",
    "    \"100-300 kr a persona\": 2,\n",
    "    \"200-300 kr a persona\": 2,\n",
    "    \"200-400 kr a persona\": 2,\n",
    "    \"300-400 kr a persona\": 3,\n",
    "    \"300-500 kr a persona\": 3,\n",
    "    \"400-500 kr a persona\": 3,\n",
    "    \"400-600 kr a persona\": 3,\n",
    "    \"500-600 kr a persona\": 3,\n",
    "    \"600-700 kr a persona\": 4,\n",
    "    \"Più di 1000 kr a persona\": 5,\n",
    "    \"2000-4000 kr a persona\": 5,\n",
    "    \"1-10 â\\x82¬ a persona\": 1,  # 7–75 DKK ≈ low\n",
    "    \"30-40 â\\x82¬ a persona\": 2,  # 224–298 DKK ≈ mid-low\n",
    "}\n",
    "\n",
    "# Applichiamo la mappatura\n",
    "mapsReviews_ds[\"price_level_mapped\"] = mapsReviews_ds[\"Price Level\"].map(price_mapping)"
   ]
  },
  {
   "cell_type": "code",
   "execution_count": 21,
   "id": "cc6bae82",
   "metadata": {},
   "outputs": [],
   "source": [
    "mapsReviews_ds[\"price_level_missing\"] = mapsReviews_ds[\"price_level_mapped\"].isna()\n",
    "mapsReviews_ds[\"price_level_mapped\"] = mapsReviews_ds[\"price_level_mapped\"].fillna(2)"
   ]
  },
  {
   "cell_type": "code",
   "execution_count": 28,
   "id": "7f3ab4ef",
   "metadata": {},
   "outputs": [],
   "source": [
    "# Prima assicuriamoci che Rating sia numerico\n",
    "mapsReviews_ds[\"Rating\"] = pd.to_numeric(mapsReviews_ds[\"Rating\"], errors=\"coerce\")\n",
    "\n",
    "# Crea flag se manca\n",
    "mapsReviews_ds[\"rating_missing\"] = mapsReviews_ds[\"Rating\"].isna()\n",
    "\n",
    "# Riempie NaN con valore medio (3.5)\n",
    "mapsReviews_ds[\"Rating\"] = mapsReviews_ds[\"Rating\"].fillna(3.5)"
   ]
  },
  {
   "cell_type": "code",
   "execution_count": 29,
   "id": "03ced531",
   "metadata": {},
   "outputs": [],
   "source": [
    "# Assicuriamoci che Reviews sia numerico\n",
    "mapsReviews_ds[\"Reviews\"] = pd.to_numeric(mapsReviews_ds[\"Reviews\"], errors=\"coerce\")\n",
    "\n",
    "# Crea flag se manca\n",
    "mapsReviews_ds[\"reviews_missing\"] = mapsReviews_ds[\"Reviews\"].isna()\n",
    "\n",
    "# Riempie NaN con un valore tipo 5 recensioni\n",
    "mapsReviews_ds[\"Reviews\"] = mapsReviews_ds[\"Reviews\"].fillna(5)"
   ]
  },
  {
   "cell_type": "code",
   "execution_count": 30,
   "id": "455e1f73",
   "metadata": {},
   "outputs": [],
   "source": [
    "mapsReviews_ds.to_csv(\"mapsReviews_ds_NoNull.csv\", index=False)"
   ]
  },
  {
   "cell_type": "markdown",
   "id": "c8b64e19",
   "metadata": {},
   "source": [
    "# MERGE ALL DATASETS"
   ]
  },
  {
   "cell_type": "markdown",
   "id": "fd212771",
   "metadata": {},
   "source": [
    "## Restaurants + Reviews"
   ]
  },
  {
   "cell_type": "code",
   "execution_count": 31,
   "id": "b959be5a",
   "metadata": {},
   "outputs": [],
   "source": [
    "def clean_text(text):\n",
    "    if pd.isna(text):\n",
    "        return \"\"\n",
    "    return str(text).lower().strip().replace(\"  \", \" \")\n",
    "\n",
    "\n",
    "# Puliamo nei due dataset\n",
    "restaurants_ds[\"Name_clean\"] = restaurants_ds[\"Name\"].apply(clean_text)\n",
    "restaurants_ds[\"Address_clean\"] = restaurants_ds[\"Address\"].apply(clean_text)\n",
    "\n",
    "mapsReviews_ds[\"Input Name_clean\"] = mapsReviews_ds[\"Input Name\"].apply(clean_text)\n",
    "mapsReviews_ds[\"Input Address_clean\"] = mapsReviews_ds[\"Input Address\"].apply(\n",
    "    clean_text\n",
    ")"
   ]
  },
  {
   "cell_type": "code",
   "execution_count": 32,
   "id": "6a83951b",
   "metadata": {},
   "outputs": [
    {
     "name": "stdout",
     "output_type": "stream",
     "text": [
      "Collecting rapidfuzz\n",
      "  Downloading rapidfuzz-3.13.0-cp311-cp311-win_amd64.whl.metadata (12 kB)\n",
      "Downloading rapidfuzz-3.13.0-cp311-cp311-win_amd64.whl (1.6 MB)\n",
      "   ---------------------------------------- 0.0/1.6 MB ? eta -:--:--\n",
      "   ---------------------------------------- 0.0/1.6 MB ? eta -:--:--\n",
      "   ---------------------------------------- 0.0/1.6 MB ? eta -:--:--\n",
      "   ---------------------------------------- 0.0/1.6 MB ? eta -:--:--\n",
      "    --------------------------------------- 0.0/1.6 MB 145.2 kB/s eta 0:00:12\n",
      "   - -------------------------------------- 0.1/1.6 MB 328.2 kB/s eta 0:00:05\n",
      "   - -------------------------------------- 0.1/1.6 MB 328.2 kB/s eta 0:00:05\n",
      "   - -------------------------------------- 0.1/1.6 MB 231.0 kB/s eta 0:00:07\n",
      "   ---- ----------------------------------- 0.2/1.6 MB 517.2 kB/s eta 0:00:03\n",
      "   ---- ----------------------------------- 0.2/1.6 MB 517.2 kB/s eta 0:00:03\n",
      "   ------ --------------------------------- 0.3/1.6 MB 630.5 kB/s eta 0:00:03\n",
      "   ------ --------------------------------- 0.3/1.6 MB 587.7 kB/s eta 0:00:03\n",
      "   -------- ------------------------------- 0.4/1.6 MB 696.3 kB/s eta 0:00:02\n",
      "   ------------- -------------------------- 0.6/1.6 MB 1.0 MB/s eta 0:00:02\n",
      "   ------------------ --------------------- 0.8/1.6 MB 1.3 MB/s eta 0:00:01\n",
      "   --------------------------- ------------ 1.1/1.6 MB 1.8 MB/s eta 0:00:01\n",
      "   ------------------------------- -------- 1.3/1.6 MB 1.9 MB/s eta 0:00:01\n",
      "   ---------------------------------- ----- 1.4/1.6 MB 2.0 MB/s eta 0:00:01\n",
      "   ---------------------------------------- 1.6/1.6 MB 2.1 MB/s eta 0:00:00\n",
      "Installing collected packages: rapidfuzz\n",
      "Successfully installed rapidfuzz-3.13.0\n"
     ]
    },
    {
     "name": "stderr",
     "output_type": "stream",
     "text": [
      "\n",
      "[notice] A new release of pip is available: 23.3.1 -> 25.0.1\n",
      "[notice] To update, run: C:\\Users\\Dell\\AppData\\Local\\Microsoft\\WindowsApps\\PythonSoftwareFoundation.Python.3.11_qbz5n2kfra8p0\\python.exe -m pip install --upgrade pip\n"
     ]
    }
   ],
   "source": [
    "!pip install rapidfuzz"
   ]
  },
  {
   "cell_type": "code",
   "execution_count": 33,
   "id": "ed86d98c",
   "metadata": {},
   "outputs": [],
   "source": [
    "from rapidfuzz import process\n",
    "\n",
    "# Creiamo dizionario dei nomi delle review\n",
    "review_names = mapsReviews_ds[\"Input Name_clean\"].tolist()\n",
    "\n",
    "\n",
    "def fuzzy_match(name):\n",
    "    match = process.extractOne(\n",
    "        name, review_names, score_cutoff=80\n",
    "    )  # solo se >80% di similarità\n",
    "    if match:\n",
    "        return match[0]\n",
    "    return None\n",
    "\n",
    "\n",
    "# Applichiamo fuzzy matching\n",
    "restaurants_ds[\"matched_name\"] = restaurants_ds[\"Name_clean\"].apply(fuzzy_match)\n",
    "\n",
    "# Poi merge\n",
    "merged_df = restaurants_ds.merge(\n",
    "    mapsReviews_ds,\n",
    "    how=\"left\",\n",
    "    left_on=\"matched_name\",\n",
    "    right_on=\"Input Name_clean\",\n",
    "    suffixes=(\"\", \"_review\"),\n",
    ")"
   ]
  },
  {
   "cell_type": "code",
   "execution_count": 35,
   "id": "567efed1",
   "metadata": {},
   "outputs": [
    {
     "name": "stdout",
     "output_type": "stream",
     "text": [
      "Matched: 4721 (100.00%)\n",
      "Unmatched: 0 (0.00%)\n"
     ]
    }
   ],
   "source": [
    "# Supponiamo che il dataframe merged si chiami merged_df\n",
    "\n",
    "# Quanti ristoranti hanno trovato Rating (cioè matchato?)\n",
    "matched = merged_df[\"Rating\"].notna().sum()\n",
    "\n",
    "# Quanti ristoranti NON hanno trovato Rating?\n",
    "unmatched = merged_df[\"Rating\"].isna().sum()\n",
    "\n",
    "# Quanti ristoranti totali?\n",
    "total = len(merged_df)\n",
    "\n",
    "# Percentuali\n",
    "matched_pct = (matched / total) * 100\n",
    "unmatched_pct = (unmatched / total) * 100\n",
    "\n",
    "# Stampa il risultato\n",
    "print(f\"Matched: {matched} ({matched_pct:.2f}%)\")\n",
    "print(f\"Unmatched: {unmatched} ({unmatched_pct:.2f}%)\")"
   ]
  },
  {
   "cell_type": "markdown",
   "id": "fe499f54",
   "metadata": {},
   "source": [
    "## merged_df + population"
   ]
  },
  {
   "cell_type": "code",
   "execution_count": 38,
   "id": "e5ede388",
   "metadata": {},
   "outputs": [],
   "source": [
    "assert population_ds[\n",
    "    \"postal_code\"\n",
    "].is_unique, \"Errore: postal_code duplicati in population_ds\""
   ]
  },
  {
   "cell_type": "code",
   "execution_count": 39,
   "id": "a522f884",
   "metadata": {},
   "outputs": [],
   "source": [
    "merged_df = merged_df.merge(\n",
    "    population_ds[\n",
    "        [\"postal_code\", \"Total\", \"population_density_km2\", \"restaurant_count\"]\n",
    "    ],\n",
    "    how=\"left\",\n",
    "    on=\"postal_code\",\n",
    "    suffixes=(\"\", \"_population\"),\n",
    ")"
   ]
  },
  {
   "cell_type": "code",
   "execution_count": 40,
   "id": "2b2f85dc",
   "metadata": {},
   "outputs": [
    {
     "name": "stdout",
     "output_type": "stream",
     "text": [
      "<class 'pandas.core.frame.DataFrame'>\n",
      "RangeIndex: 4721 entries, 0 to 4720\n",
      "Data columns (total 27 columns):\n",
      " #   Column                  Non-Null Count  Dtype  \n",
      "---  ------                  --------------  -----  \n",
      " 0   Name                    4721 non-null   object \n",
      " 1   Address                 4721 non-null   object \n",
      " 2   P-nummer                4721 non-null   int64  \n",
      " 3   Startdate               4672 non-null   object \n",
      " 4   Enddate                 211 non-null    object \n",
      " 5   code                    4721 non-null   int64  \n",
      " 6   active                  4721 non-null   bool   \n",
      " 7   postal_code             4721 non-null   int64  \n",
      " 8   Name_clean              4721 non-null   object \n",
      " 9   Address_clean           4721 non-null   object \n",
      " 10  matched_name            4721 non-null   object \n",
      " 11  Input Name              4721 non-null   object \n",
      " 12  Input Address           4721 non-null   object \n",
      " 13  Title                   2661 non-null   object \n",
      " 14  Rating                  4721 non-null   float64\n",
      " 15  Reviews                 4721 non-null   float64\n",
      " 16  Price Level             1011 non-null   object \n",
      " 17  Tags                    1726 non-null   object \n",
      " 18  price_level_mapped      4721 non-null   float64\n",
      " 19  price_level_missing     4721 non-null   bool   \n",
      " 20  rating_missing          4721 non-null   bool   \n",
      " 21  reviews_missing         4721 non-null   bool   \n",
      " 22  Input Name_clean        4721 non-null   object \n",
      " 23  Input Address_clean     4721 non-null   object \n",
      " 24  Total                   3074 non-null   float64\n",
      " 25  population_density_km2  3074 non-null   float64\n",
      " 26  restaurant_count        3074 non-null   float64\n",
      "dtypes: bool(4), float64(6), int64(3), object(14)\n",
      "memory usage: 866.9+ KB\n"
     ]
    }
   ],
   "source": [
    "merged_df.info()"
   ]
  },
  {
   "cell_type": "markdown",
   "id": "f8cbf576",
   "metadata": {},
   "source": [
    "## Merged_df + footTraffic"
   ]
  },
  {
   "cell_type": "markdown",
   "id": "38c668e2",
   "metadata": {},
   "source": [
    "### Postal code to CAP"
   ]
  },
  {
   "cell_type": "code",
   "execution_count": 45,
   "id": "855af9c0",
   "metadata": {},
   "outputs": [
    {
     "name": "stdout",
     "output_type": "stream",
     "text": [
      "<class 'pandas.core.frame.DataFrame'>\n",
      "RangeIndex: 308 entries, 0 to 307\n",
      "Data columns (total 3 columns):\n",
      " #   Column       Non-Null Count  Dtype  \n",
      "---  ------       --------------  -----  \n",
      " 0   postal_code  308 non-null    int64  \n",
      " 1   latitude     308 non-null    float64\n",
      " 2   longitude    308 non-null    float64\n",
      "dtypes: float64(2), int64(1)\n",
      "memory usage: 7.3 KB\n"
     ]
    }
   ],
   "source": [
    "from geopy.geocoders import Nominatim\n",
    "import time\n",
    "\n",
    "geolocator = Nominatim(user_agent=\"foot_traffic_matcher\")\n",
    "\n",
    "\n",
    "# Funzione che geocodifica un postal_code\n",
    "def get_coordinates(postal_code):\n",
    "    try:\n",
    "        location = geolocator.geocode(f\"{postal_code} Copenhagen Denmark\")\n",
    "        if location:\n",
    "            return location.latitude, location.longitude\n",
    "        else:\n",
    "            return None, None\n",
    "    except:\n",
    "        return None, None\n",
    "\n",
    "\n",
    "# Creiamo una nuova tabella con CAP unici\n",
    "postal_code_unique = merged_df[\"postal_code\"].dropna().unique()\n",
    "\n",
    "# Geocodifica di tutti i CAP\n",
    "postal_code_coords = []\n",
    "for code in postal_code_unique:\n",
    "    lat, lon = get_coordinates(code)\n",
    "    postal_code_coords.append((code, lat, lon))\n",
    "    time.sleep(1)  # importantissimo per non farsi bloccare\n",
    "\n",
    "postal_coords_df = pd.DataFrame(\n",
    "    postal_code_coords, columns=[\"postal_code\", \"latitude\", \"longitude\"]\n",
    ")\n",
    "\n",
    "postal_coords_df.info()"
   ]
  },
  {
   "cell_type": "code",
   "execution_count": 49,
   "id": "dd45778b",
   "metadata": {},
   "outputs": [
    {
     "name": "stdout",
     "output_type": "stream",
     "text": [
      "Index(['latitude', 'longitude', 'aadt_fod_7_19', 'hvdt_fod_7_19'], dtype='object')\n"
     ]
    }
   ],
   "source": [
    "print(footTraffic_ds.columns)"
   ]
  },
  {
   "cell_type": "code",
   "execution_count": 50,
   "id": "9d3a5b1d",
   "metadata": {},
   "outputs": [],
   "source": [
    "from geopy.distance import geodesic\n",
    "\n",
    "\n",
    "# Funzione per trovare il foot traffic della stazione più vicina\n",
    "def find_nearest_traffic(lat, lon, stations_df):\n",
    "    distances = stations_df.apply(\n",
    "        lambda row: geodesic((lat, lon), (row[\"latitude\"], row[\"longitude\"])).meters,\n",
    "        axis=1,\n",
    "    )\n",
    "    nearest_idx = distances.idxmin()\n",
    "    return stations_df.loc[\n",
    "        nearest_idx, \"aadt_fod_7_19\"\n",
    "    ]  # puoi cambiare con 'hvdt_fod_7_19' se vuoi picco\n",
    "\n",
    "\n",
    "# Applichiamo a tutti i CAP\n",
    "postal_coords_df[\"foot_traffic\"] = postal_coords_df.apply(\n",
    "    lambda row: find_nearest_traffic(row[\"latitude\"], row[\"longitude\"], footTraffic_ds),\n",
    "    axis=1,\n",
    ")"
   ]
  },
  {
   "cell_type": "code",
   "execution_count": 51,
   "id": "765002fc",
   "metadata": {},
   "outputs": [
    {
     "name": "stdout",
     "output_type": "stream",
     "text": [
      "<class 'pandas.core.frame.DataFrame'>\n",
      "RangeIndex: 308 entries, 0 to 307\n",
      "Data columns (total 4 columns):\n",
      " #   Column        Non-Null Count  Dtype  \n",
      "---  ------        --------------  -----  \n",
      " 0   postal_code   308 non-null    int64  \n",
      " 1   latitude      308 non-null    float64\n",
      " 2   longitude     308 non-null    float64\n",
      " 3   foot_traffic  308 non-null    float64\n",
      "dtypes: float64(3), int64(1)\n",
      "memory usage: 9.8 KB\n"
     ]
    }
   ],
   "source": [
    "postal_coords_df.info()"
   ]
  },
  {
   "cell_type": "code",
   "execution_count": 52,
   "id": "19a43b8a",
   "metadata": {},
   "outputs": [],
   "source": [
    "# Merge su postal_code\n",
    "merged_df = merged_df.merge(\n",
    "    postal_coords_df[[\"postal_code\", \"latitude\", \"longitude\", \"foot_traffic\"]],\n",
    "    how=\"left\",\n",
    "    on=\"postal_code\",\n",
    ")"
   ]
  },
  {
   "cell_type": "code",
   "execution_count": 54,
   "id": "75824e42",
   "metadata": {},
   "outputs": [
    {
     "name": "stdout",
     "output_type": "stream",
     "text": [
      "   postal_code   latitude  longitude  foot_traffic\n",
      "0         2200  55.694916  12.550127   4305.306806\n",
      "1         2300  55.650905  12.602597   1778.477032\n",
      "2         2200  55.694916  12.550127   4305.306806\n",
      "3         3670  55.686724  12.570072   4468.524085\n",
      "4         1051  55.679985  12.590608  11751.005514\n",
      "(4721, 30)\n"
     ]
    }
   ],
   "source": [
    "print(merged_df[[\"postal_code\", \"latitude\", \"longitude\", \"foot_traffic\"]].head())\n",
    "print(merged_df.shape)"
   ]
  },
  {
   "cell_type": "markdown",
   "id": "01482304",
   "metadata": {},
   "source": [
    "# Function to calculate the risk"
   ]
  },
  {
   "cell_type": "code",
   "execution_count": 55,
   "id": "baccac15",
   "metadata": {},
   "outputs": [],
   "source": [
    "def compute_closure_risk(row):\n",
    "    risk = 0\n",
    "\n",
    "    # Rating\n",
    "    if row[\"Rating\"] < 3.5:\n",
    "        risk += 0.4\n",
    "    elif row[\"Rating\"] > 4.2:\n",
    "        risk += 0.1\n",
    "    else:\n",
    "        risk += 0.25\n",
    "\n",
    "    # Price Level\n",
    "    if row[\"price_level_mapped\"] == 1 or row[\"price_level_mapped\"] == 5:\n",
    "        risk += 0.15\n",
    "\n",
    "    # Reviews\n",
    "    if row[\"Reviews\"] < 10:\n",
    "        risk += 0.1\n",
    "\n",
    "    # Foot traffic\n",
    "    if pd.notna(row[\"foot_traffic\"]) and row[\"foot_traffic\"] < 3000:\n",
    "        risk += 0.15\n",
    "\n",
    "    # Population density\n",
    "    if pd.notna(row[\"population_density_km2\"]) and row[\"population_density_km2\"] < 5000:\n",
    "        risk += 0.10\n",
    "\n",
    "    return min(risk, 1.0)"
   ]
  },
  {
   "cell_type": "code",
   "execution_count": 56,
   "id": "9290223f",
   "metadata": {},
   "outputs": [],
   "source": [
    "merged_df[\"closure_risk\"] = merged_df.apply(compute_closure_risk, axis=1)"
   ]
  },
  {
   "cell_type": "code",
   "execution_count": 66,
   "id": "7fd19995",
   "metadata": {},
   "outputs": [],
   "source": [
    "import numpy as np\n",
    "\n",
    "np.random.seed(42)  # così risultato ripetibile\n",
    "\n",
    "# Simuliamo random solo per quelli attivi\n",
    "mask_open = merged_df[\"active\"] == True\n",
    "merged_df.loc[mask_open, \"random_val\"] = np.random.rand(mask_open.sum())\n",
    "\n",
    "# Decide chi chiude\n",
    "merged_df[\"closure_simulated\"] = False  # default\n",
    "\n",
    "merged_df.loc[mask_open, \"closure_simulated\"] = (\n",
    "    merged_df.loc[mask_open, \"random_val\"] < merged_df.loc[mask_open, \"closure_risk\"]\n",
    ")"
   ]
  },
  {
   "cell_type": "code",
   "execution_count": 67,
   "id": "a5756ed5",
   "metadata": {},
   "outputs": [],
   "source": [
    "# Converte Startdate in datetime sicuro\n",
    "merged_df[\"Startdate\"] = pd.to_datetime(merged_df[\"Startdate\"], errors=\"coerce\")\n",
    "\n",
    "today = pd.to_datetime(\"today\")\n",
    "\n",
    "# Chiudiamo quelli che devono chiudere\n",
    "mask_newly_closed = (merged_df[\"active\"] == True) & (\n",
    "    merged_df[\"closure_simulated\"] == True\n",
    ")\n",
    "\n",
    "merged_df.loc[mask_newly_closed, \"Simulated_EndDate\"] = merged_df.loc[\n",
    "    mask_newly_closed, \"Startdate\"\n",
    "] + pd.to_timedelta(\n",
    "    np.random.randint(2 * 365, 7 * 365, size=mask_newly_closed.sum()), unit=\"D\"\n",
    ")\n",
    "\n",
    "# Aggiorniamo lo stato active\n",
    "merged_df.loc[mask_newly_closed, \"active\"] = False\n",
    "merged_df[\"Simulated_EndDate\"] = pd.to_datetime(merged_df[\"Simulated_EndDate\"])"
   ]
  },
  {
   "cell_type": "code",
   "execution_count": 68,
   "id": "ef5c2869",
   "metadata": {},
   "outputs": [
    {
     "name": "stdout",
     "output_type": "stream",
     "text": [
      "<class 'pandas.core.frame.DataFrame'>\n",
      "RangeIndex: 4721 entries, 0 to 4720\n",
      "Data columns (total 35 columns):\n",
      " #   Column                  Non-Null Count  Dtype         \n",
      "---  ------                  --------------  -----         \n",
      " 0   Name                    4721 non-null   object        \n",
      " 1   Address                 4721 non-null   object        \n",
      " 2   P-nummer                4721 non-null   int64         \n",
      " 3   Startdate               4672 non-null   datetime64[ns]\n",
      " 4   Enddate                 211 non-null    object        \n",
      " 5   code                    4721 non-null   int64         \n",
      " 6   active                  4721 non-null   bool          \n",
      " 7   postal_code             4721 non-null   int64         \n",
      " 8   Name_clean              4721 non-null   object        \n",
      " 9   Address_clean           4721 non-null   object        \n",
      " 10  matched_name            4721 non-null   object        \n",
      " 11  Input Name              4721 non-null   object        \n",
      " 12  Input Address           4721 non-null   object        \n",
      " 13  Title                   2661 non-null   object        \n",
      " 14  Rating                  4721 non-null   float64       \n",
      " 15  Reviews                 4721 non-null   float64       \n",
      " 16  Price Level             1011 non-null   object        \n",
      " 17  Tags                    1726 non-null   object        \n",
      " 18  price_level_mapped      4721 non-null   float64       \n",
      " 19  price_level_missing     4721 non-null   bool          \n",
      " 20  rating_missing          4721 non-null   bool          \n",
      " 21  reviews_missing         4721 non-null   bool          \n",
      " 22  Input Name_clean        4721 non-null   object        \n",
      " 23  Input Address_clean     4721 non-null   object        \n",
      " 24  Total                   3074 non-null   float64       \n",
      " 25  population_density_km2  3074 non-null   float64       \n",
      " 26  restaurant_count        3074 non-null   float64       \n",
      " 27  latitude                4721 non-null   float64       \n",
      " 28  longitude               4721 non-null   float64       \n",
      " 29  foot_traffic            4721 non-null   float64       \n",
      " 30  closure_risk            4721 non-null   float64       \n",
      " 31  random_val              4721 non-null   float64       \n",
      " 32  simulated_closure       4721 non-null   bool          \n",
      " 33  Simulated_EndDate       2243 non-null   datetime64[ns]\n",
      " 34  closure_simulated       4721 non-null   bool          \n",
      "dtypes: bool(6), datetime64[ns](2), float64(11), int64(3), object(13)\n",
      "memory usage: 1.1+ MB\n"
     ]
    }
   ],
   "source": [
    "merged_df.info()"
   ]
  },
  {
   "cell_type": "code",
   "execution_count": 69,
   "id": "8c035f01",
   "metadata": {},
   "outputs": [],
   "source": [
    "today = pd.to_datetime(\"today\")\n",
    "\n",
    "# Calcoliamo la durata:\n",
    "merged_df[\"duration_days\"] = (\n",
    "    merged_df[\"Simulated_EndDate\"].fillna(today) - merged_df[\"Startdate\"]\n",
    ").dt.days"
   ]
  },
  {
   "cell_type": "code",
   "execution_count": 74,
   "id": "c9d8e167",
   "metadata": {},
   "outputs": [
    {
     "name": "stdout",
     "output_type": "stream",
     "text": [
      "<class 'pandas.core.frame.DataFrame'>\n",
      "RangeIndex: 4721 entries, 0 to 4720\n",
      "Data columns (total 37 columns):\n",
      " #   Column                  Non-Null Count  Dtype         \n",
      "---  ------                  --------------  -----         \n",
      " 0   Name                    4721 non-null   object        \n",
      " 1   Address                 4721 non-null   object        \n",
      " 2   P-nummer                4721 non-null   int64         \n",
      " 3   Startdate               4672 non-null   datetime64[ns]\n",
      " 4   Enddate                 211 non-null    object        \n",
      " 5   code                    4721 non-null   int64         \n",
      " 6   active                  4721 non-null   bool          \n",
      " 7   postal_code             4721 non-null   int64         \n",
      " 8   Name_clean              4721 non-null   object        \n",
      " 9   Address_clean           4721 non-null   object        \n",
      " 10  matched_name            4721 non-null   object        \n",
      " 11  Input Name              4721 non-null   object        \n",
      " 12  Input Address           4721 non-null   object        \n",
      " 13  Title                   2661 non-null   object        \n",
      " 14  Rating                  4721 non-null   float64       \n",
      " 15  Reviews                 4721 non-null   float64       \n",
      " 16  Price Level             1011 non-null   object        \n",
      " 17  Tags                    1726 non-null   object        \n",
      " 18  price_level_mapped      4721 non-null   float64       \n",
      " 19  price_level_missing     4721 non-null   bool          \n",
      " 20  rating_missing          4721 non-null   bool          \n",
      " 21  reviews_missing         4721 non-null   bool          \n",
      " 22  Input Name_clean        4721 non-null   object        \n",
      " 23  Input Address_clean     4721 non-null   object        \n",
      " 24  Total                   3074 non-null   float64       \n",
      " 25  population_density_km2  3074 non-null   float64       \n",
      " 26  restaurant_count        3074 non-null   float64       \n",
      " 27  latitude                4721 non-null   float64       \n",
      " 28  longitude               4721 non-null   float64       \n",
      " 29  foot_traffic            4721 non-null   float64       \n",
      " 30  closure_risk            4721 non-null   float64       \n",
      " 31  random_val              4721 non-null   float64       \n",
      " 32  simulated_closure       4721 non-null   bool          \n",
      " 33  Simulated_EndDate       2243 non-null   datetime64[ns]\n",
      " 34  closure_simulated       4721 non-null   bool          \n",
      " 35  duration_days           4672 non-null   float64       \n",
      " 36  is_closed               4721 non-null   int32         \n",
      "dtypes: bool(6), datetime64[ns](2), float64(12), int32(1), int64(3), object(13)\n",
      "memory usage: 1.1+ MB\n"
     ]
    }
   ],
   "source": [
    "merged_df.info()"
   ]
  },
  {
   "cell_type": "code",
   "execution_count": 75,
   "id": "21da4a8e",
   "metadata": {},
   "outputs": [
    {
     "data": {
      "text/plain": [
       "Text(0.5, 0, 'Durata (giorni)')"
      ]
     },
     "execution_count": 75,
     "metadata": {},
     "output_type": "execute_result"
    },
    {
     "data": {
      "image/png": "[encoded data removed]",
      "text/plain": [
       "<Figure size 1000x600 with 1 Axes>"
      ]
     },
     "metadata": {},
     "output_type": "display_data"
    }
   ],
   "source": [
    "import matplotlib.pyplot as plt\n",
    "\n",
    "# Pulisci i NaN prima di plottare\n",
    "duration_clean = merged_df[\"duration_days\"].dropna()\n",
    "\n",
    "plt.figure(figsize=(10, 6))\n",
    "plt.hist(duration_clean, bins=50, edgecolor=\"black\")\n",
    "plt.title(\"Distribuzione delle Durate di Apertura dei Ristoranti\")\n",
    "plt.xlabel(\"Durata (giorni)\")"
   ]
  },
  {
   "cell_type": "code",
   "execution_count": 73,
   "id": "68e01540",
   "metadata": {},
   "outputs": [
    {
     "data": {
      "image/png": "[encoded data removed]",
      "text/plain": [
       "<Figure size 640x480 with 1 Axes>"
      ]
     },
     "metadata": {},
     "output_type": "display_data"
    }
   ],
   "source": [
    "# Filtro solo righe complete\n",
    "kmf_df = merged_df.dropna(subset=[\"duration_days\", \"is_closed\"])\n",
    "\n",
    "# Fit sulla versione pulita\n",
    "kmf = KaplanMeierFitter()\n",
    "kmf.fit(\n",
    "    durations=kmf_df[\"duration_days\"],\n",
    "    event_observed=kmf_df[\"is_closed\"],\n",
    "    label=\"All Restaurants\",\n",
    ")\n",
    "kmf.plot_survival_function()\n",
    "plt.title(\"Survival of Restaurants in Copenhagen\")\n",
    "plt.xlabel(\"Days since opening\")\n",
    "plt.ylabel(\"Probability of being open\")\n",
    "plt.show()"
   ]
  },
  {
   "cell_type": "code",
   "execution_count": 76,
   "id": "c20eddd5",
   "metadata": {},
   "outputs": [],
   "source": [
    "# Salva il dataframe\n",
    "merged_df.to_csv(\"merged_restaurants_final.csv\", index=False)"
   ]
  },
  {
   "cell_type": "code",
   "execution_count": 78,
   "id": "d8e2bf7f",
   "metadata": {},
   "outputs": [],
   "source": [
    "from datetime import datetime\n",
    "import numpy as np\n",
    "import pandas as pd\n",
    "\n",
    "np.random.seed(42)  # Per risultati ripetibili\n",
    "\n",
    "# 1. Assicuriamoci che Startdate sia in datetime\n",
    "merged_df[\"Startdate\"] = pd.to_datetime(merged_df[\"Startdate\"], errors=\"coerce\")\n",
    "\n",
    "\n",
    "# 2. Simuliamo nuove end date solo per i ristoranti già chiusi (active == False)\n",
    "def simulate_closure_time():\n",
    "    random_choice = np.random.rand()\n",
    "\n",
    "    if random_choice < 0.80:\n",
    "        # 80% chiude tra 2 e 7 anni\n",
    "        years = np.random.randint(2, 8)\n",
    "    elif random_choice < 0.95:\n",
    "        # 15% chiude tra 8 e 15 anni\n",
    "        years = np.random.randint(8, 16)\n",
    "    else:\n",
    "        # 5% sopravvive a lungo\n",
    "        years = np.random.geometric(0.02)\n",
    "        years = min(years, 30)  # max 30 anni\n",
    "\n",
    "    return years\n",
    "\n",
    "\n",
    "# Maschera per i ristoranti chiusi\n",
    "mask_closed = merged_df[\"active\"] == False\n",
    "\n",
    "# Simuliamo nuove chiusure realistiche solo per i già chiusi\n",
    "simulated_years = [simulate_closure_time() for _ in range(mask_closed.sum())]\n",
    "simulated_days = [y * 365 for y in simulated_years]\n",
    "\n",
    "merged_df.loc[mask_closed, \"Simulated_EndDate\"] = merged_df.loc[\n",
    "    mask_closed, \"Startdate\"\n",
    "] + pd.to_timedelta(simulated_days, unit=\"D\")\n",
    "\n",
    "# 3. Sistemiamo Enddate (usiamo Simulated_EndDate dove serve)\n",
    "merged_df[\"Simulated_EndDate\"] = pd.to_datetime(\n",
    "    merged_df[\"Simulated_EndDate\"], errors=\"coerce\"\n",
    ")\n",
    "\n",
    "# 4. Calcoliamo la nuova durata\n",
    "today = pd.to_datetime(\"today\")\n",
    "merged_df[\"duration_days\"] = (\n",
    "    merged_df[\"Simulated_EndDate\"].fillna(today) - merged_df[\"Startdate\"]\n",
    ").dt.days\n",
    "\n",
    "# 5. Calcoliamo durata in anni\n",
    "merged_df[\"duration_years\"] = merged_df[\"duration_days\"] / 365\n",
    "\n",
    "# 6. Ricalcoliamo lo stato \"is_closed\"\n",
    "# (0 = aperto, 1 = chiuso) usando Simulated_EndDate\n",
    "merged_df[\"is_closed\"] = merged_df[\"Simulated_EndDate\"].notna().astype(int)"
   ]
  },
  {
   "cell_type": "code",
   "execution_count": 79,
   "id": "8773832e",
   "metadata": {},
   "outputs": [
    {
     "data": {
      "image/png": "[encoded data removed]",
      "text/plain": [
       "<Figure size 1000x600 with 1 Axes>"
      ]
     },
     "metadata": {},
     "output_type": "display_data"
    }
   ],
   "source": [
    "from lifelines import KaplanMeierFitter\n",
    "import matplotlib.pyplot as plt\n",
    "\n",
    "# Assicurati che non ci siano NaN\n",
    "kmf_df = merged_df.dropna(subset=[\"duration_days\", \"is_closed\"])\n",
    "\n",
    "# Inizializza il Kaplan-Meier Fitter\n",
    "kmf = KaplanMeierFitter()\n",
    "\n",
    "# Fitta il modello\n",
    "kmf.fit(\n",
    "    durations=kmf_df[\"duration_days\"],\n",
    "    event_observed=kmf_df[\"is_closed\"],\n",
    "    label=\"All Restaurants\",\n",
    ")\n",
    "\n",
    "# Plot della funzione di sopravvivenza\n",
    "plt.figure(figsize=(10, 6))\n",
    "kmf.plot_survival_function()\n",
    "plt.title(\"Kaplan-Meier Survival Curve of Restaurants in Copenhagen\")\n",
    "plt.xlabel(\"Days Since Opening\")\n",
    "plt.ylabel(\"Probability of Being Open\")\n",
    "plt.grid(True)\n",
    "plt.show()"
   ]
  },
  {
   "cell_type": "code",
   "execution_count": null,
   "id": "818ceb8d",
   "metadata": {},
   "outputs": [],
   "source": []
  },
  {
   "cell_type": "code",
   "execution_count": 2,
   "id": "8ff9d073",
   "metadata": {},
   "outputs": [],
   "source": [
    "import pandas as pd\n",
    "\n",
    "merged_df = pd.read_csv(\"merged_restaurants_final.csv\")\n",
    "# Definiamo \"oggi\"\n",
    "today = pd.to_datetime(\"today\")\n",
    "\n",
    "# Sicurezza: Simulated_EndDate è datetime\n",
    "merged_df[\"Simulated_EndDate\"] = pd.to_datetime(\n",
    "    merged_df[\"Simulated_EndDate\"], errors=\"coerce\"\n",
    ")\n",
    "\n",
    "# Se la chiusura è futura ➔ resettiamo\n",
    "mask_future_closures = merged_df[\"Simulated_EndDate\"] > today\n",
    "\n",
    "# Mettiamo NaT dove la data è futura\n",
    "merged_df.loc[mask_future_closures, \"Simulated_EndDate\"] = pd.NaT\n",
    "\n",
    "# Aggiorniamo anche is_closed\n",
    "merged_df[\"is_closed\"] = merged_df[\"Simulated_EndDate\"].notna().astype(int)"
   ]
  },
  {
   "cell_type": "code",
   "execution_count": 4,
   "id": "9eb6d80f",
   "metadata": {},
   "outputs": [],
   "source": [
    "# Assicuriamoci Startdate sia datetime\n",
    "merged_df[\"Startdate\"] = pd.to_datetime(merged_df[\"Startdate\"], errors=\"coerce\")\n",
    "\n",
    "# Ricalcoliamo duration_days\n",
    "merged_df[\"duration_days\"] = (\n",
    "    merged_df[\"Simulated_EndDate\"].fillna(today) - merged_df[\"Startdate\"]\n",
    ").dt.days\n",
    "\n",
    "# (Opzionale) duration in anni\n",
    "merged_df[\"duration_years\"] = merged_df[\"duration_days\"] / 365"
   ]
  },
  {
   "cell_type": "code",
   "execution_count": 11,
   "id": "8ca55e6f",
   "metadata": {},
   "outputs": [
    {
     "name": "stdout",
     "output_type": "stream",
     "text": [
      "<class 'pandas.core.frame.DataFrame'>\n",
      "Index: 4217 entries, 0 to 4700\n",
      "Data columns (total 38 columns):\n",
      " #   Column                  Non-Null Count  Dtype         \n",
      "---  ------                  --------------  -----         \n",
      " 0   Name                    4217 non-null   object        \n",
      " 1   Address                 4217 non-null   object        \n",
      " 2   P-nummer                4217 non-null   int64         \n",
      " 3   Startdate               4187 non-null   datetime64[ns]\n",
      " 4   Enddate                 164 non-null    object        \n",
      " 5   code                    4217 non-null   int64         \n",
      " 6   active                  4217 non-null   bool          \n",
      " 7   postal_code             4217 non-null   int64         \n",
      " 8   Name_clean              4217 non-null   object        \n",
      " 9   Address_clean           4217 non-null   object        \n",
      " 10  matched_name            4217 non-null   object        \n",
      " 11  Input Name              4217 non-null   object        \n",
      " 12  Input Address           4217 non-null   object        \n",
      " 13  Title                   2362 non-null   object        \n",
      " 14  Rating                  4217 non-null   float64       \n",
      " 15  Reviews                 4217 non-null   float64       \n",
      " 16  Price Level             838 non-null    object        \n",
      " 17  Tags                    1526 non-null   object        \n",
      " 18  price_level_mapped      4217 non-null   float64       \n",
      " 19  price_level_missing     4217 non-null   bool          \n",
      " 20  rating_missing          4217 non-null   bool          \n",
      " 21  reviews_missing         4217 non-null   bool          \n",
      " 22  Input Name_clean        4217 non-null   object        \n",
      " 23  Input Address_clean     4217 non-null   object        \n",
      " 24  Total                   2712 non-null   float64       \n",
      " 25  population_density_km2  2712 non-null   float64       \n",
      " 26  restaurant_count        2712 non-null   float64       \n",
      " 27  latitude                4217 non-null   float64       \n",
      " 28  longitude               4217 non-null   float64       \n",
      " 29  foot_traffic            4217 non-null   float64       \n",
      " 30  closure_risk            4217 non-null   float64       \n",
      " 31  random_val              4217 non-null   float64       \n",
      " 32  simulated_closure       4217 non-null   bool          \n",
      " 33  Simulated_EndDate       1015 non-null   datetime64[ns]\n",
      " 34  closure_simulated       4217 non-null   bool          \n",
      " 35  duration_days           4187 non-null   float64       \n",
      " 36  is_closed               4217 non-null   int32         \n",
      " 37  duration_years          4187 non-null   float64       \n",
      "dtypes: bool(6), datetime64[ns](2), float64(13), int32(1), int64(3), object(13)\n",
      "memory usage: 1.1+ MB\n"
     ]
    }
   ],
   "source": [
    "merged_df.info()"
   ]
  },
  {
   "cell_type": "code",
   "execution_count": 10,
   "id": "06b36284",
   "metadata": {},
   "outputs": [],
   "source": [
    "merged_df = merged_df.drop_duplicates(\"Name\")"
   ]
  },
  {
   "cell_type": "code",
   "execution_count": 15,
   "id": "e263af06",
   "metadata": {},
   "outputs": [
    {
     "name": "stdout",
     "output_type": "stream",
     "text": [
      "<class 'pandas.core.frame.DataFrame'>\n",
      "RangeIndex: 4552 entries, 0 to 4551\n",
      "Data columns (total 7 columns):\n",
      " #   Column         Non-Null Count  Dtype  \n",
      "---  ------         --------------  -----  \n",
      " 0   Input Name     4552 non-null   object \n",
      " 1   Input Address  4552 non-null   object \n",
      " 2   Title          2527 non-null   object \n",
      " 3   Rating         2397 non-null   object \n",
      " 4   Reviews        2372 non-null   float64\n",
      " 5   Price Level    920 non-null    object \n",
      " 6   Tags           1603 non-null   object \n",
      "dtypes: float64(1), object(6)\n",
      "memory usage: 249.1+ KB\n"
     ]
    }
   ],
   "source": [
    "mapsReviews_df = pd.read_csv(\"scraping_correct/Datasets/maps_data_scraped.csv\")\n",
    "mapsReviews_df.info()"
   ]
  },
  {
   "cell_type": "code",
   "execution_count": 16,
   "id": "207a7d49",
   "metadata": {},
   "outputs": [],
   "source": [
    "# Funzione di pulizia nomi\n",
    "def clean_name(name):\n",
    "    if pd.isna(name):\n",
    "        return \"\"\n",
    "    return str(name).lower().strip()\n",
    "\n",
    "\n",
    "# Puliamo i nomi in entrambi i dataset\n",
    "merged_df[\"Name_clean\"] = merged_df[\"Name\"].apply(clean_name)\n",
    "mapsReviews_df[\"Input Name_clean\"] = mapsReviews_df[\"Input Name\"].apply(clean_name)\n",
    "\n",
    "# Creiamo un dizionario dei rating reali\n",
    "real_ratings = (\n",
    "    mapsReviews_df.dropna(subset=[\"Rating\"])\n",
    "    .set_index(\"Input Name_clean\")[\"Rating\"]\n",
    "    .to_dict()\n",
    ")\n",
    "\n",
    "\n",
    "# Funzione per aggiornare i rating\n",
    "def update_rating(row):\n",
    "    if row[\"Name_clean\"] in real_ratings:\n",
    "        return real_ratings[row[\"Name_clean\"]]\n",
    "    else:\n",
    "        return row[\"Rating\"]  # se non troviamo, lasciamo quello che c'è\n",
    "\n",
    "\n",
    "# Applichiamo\n",
    "merged_df[\"Rating\"] = merged_df.apply(update_rating, axis=1)\n",
    "\n",
    "# Opzionale: puoi togliere la colonna Name_clean dopo se vuoi\n",
    "# merged_df.drop(columns=['Name_clean'], inplace=True)"
   ]
  },
  {
   "cell_type": "code",
   "execution_count": 17,
   "id": "953e787f",
   "metadata": {},
   "outputs": [
    {
     "name": "stdout",
     "output_type": "stream",
     "text": [
      "                                    Name Rating\n",
      "1746                  Pizza Hut Falkoner    3.5\n",
      "423                       Cafe Høegs ApS    3.5\n",
      "4501                      baresso coffee    3,6\n",
      "2500  RIVA PIZZA BURGER & STEAKHOUSE ApS    4,2\n",
      "2508                 Cafe Emil Valby ApS    3,7\n",
      "3663                              Fiammi    4,8\n",
      "1608                  Restaurant Krabben    3.5\n",
      "426                NKK-HALLENS Cafeteria    3.5\n",
      "2385            Sushi Joint/Victoria ApS    4,5\n",
      "877                  INDIAN MAHARAJA ApS    3,8\n"
     ]
    }
   ],
   "source": [
    "print(merged_df[[\"Name\", \"Rating\"]].sample(10))"
   ]
  },
  {
   "cell_type": "code",
   "execution_count": 18,
   "id": "2afd15a3",
   "metadata": {},
   "outputs": [],
   "source": [
    "# Salva il dataframe\n",
    "merged_df.to_csv(\"merged_restaurants_final_2.csv\", index=False)"
   ]
  },
  {
   "cell_type": "code",
   "execution_count": 20,
   "id": "65f71be6",
   "metadata": {},
   "outputs": [
    {
     "name": "stdout",
     "output_type": "stream",
     "text": [
      "<class 'pandas.core.frame.DataFrame'>\n",
      "RangeIndex: 4622 entries, 0 to 4621\n",
      "Data columns (total 12 columns):\n",
      " #   Column        Non-Null Count  Dtype  \n",
      "---  ------        --------------  -----  \n",
      " 0   name          4622 non-null   object \n",
      " 1   address       4622 non-null   object \n",
      " 2   p_nummer      4622 non-null   int64  \n",
      " 3   status        4622 non-null   object \n",
      " 4   company type  4622 non-null   object \n",
      " 5   startdate     4566 non-null   object \n",
      " 6   enddate       247 non-null    object \n",
      " 7   branchekode   4622 non-null   int64  \n",
      " 8   zip           4622 non-null   int64  \n",
      " 9   active        4622 non-null   int64  \n",
      " 10  latitude      4591 non-null   float64\n",
      " 11  longitude     4591 non-null   float64\n",
      "dtypes: float64(2), int64(4), object(6)\n",
      "memory usage: 433.4+ KB\n"
     ]
    }
   ],
   "source": [
    "scraped_df = pd.read_csv(\n",
    "    \"DELIVERABLE/data/scraped_companies_combined_clean_with_coords.csv\"\n",
    ")\n",
    "scraped_df.info()"
   ]
  },
  {
   "cell_type": "code",
   "execution_count": 21,
   "id": "7a6beecf",
   "metadata": {},
   "outputs": [
    {
     "name": "stdout",
     "output_type": "stream",
     "text": [
      "<class 'pandas.core.frame.DataFrame'>\n",
      "Index: 4450 entries, 0 to 4621\n",
      "Data columns (total 12 columns):\n",
      " #   Column        Non-Null Count  Dtype  \n",
      "---  ------        --------------  -----  \n",
      " 0   name          4450 non-null   object \n",
      " 1   address       4450 non-null   object \n",
      " 2   p_nummer      4450 non-null   int64  \n",
      " 3   status        4450 non-null   object \n",
      " 4   company type  4450 non-null   object \n",
      " 5   startdate     4409 non-null   object \n",
      " 6   enddate       192 non-null    object \n",
      " 7   branchekode   4450 non-null   int64  \n",
      " 8   zip           4450 non-null   int64  \n",
      " 9   active        4450 non-null   int64  \n",
      " 10  latitude      4423 non-null   float64\n",
      " 11  longitude     4423 non-null   float64\n",
      "dtypes: float64(2), int64(4), object(6)\n",
      "memory usage: 452.0+ KB\n"
     ]
    }
   ],
   "source": [
    "scraped_df = scraped_df.drop_duplicates(\"name\")\n",
    "scraped_df.info()"
   ]
  },
  {
   "cell_type": "code",
   "execution_count": 24,
   "id": "6a59d729",
   "metadata": {},
   "outputs": [],
   "source": [
    "merged_df = pd.read_csv(\"merged_restaurants_final_2.csv\")"
   ]
  },
  {
   "cell_type": "code",
   "execution_count": 25,
   "id": "b1206283",
   "metadata": {},
   "outputs": [
    {
     "name": "stdout",
     "output_type": "stream",
     "text": [
      "<class 'pandas.core.frame.DataFrame'>\n",
      "RangeIndex: 4217 entries, 0 to 4216\n",
      "Data columns (total 38 columns):\n",
      " #   Column                  Non-Null Count  Dtype  \n",
      "---  ------                  --------------  -----  \n",
      " 0   Name                    4217 non-null   object \n",
      " 1   Address                 4217 non-null   object \n",
      " 2   P-nummer                4217 non-null   int64  \n",
      " 3   Startdate               4187 non-null   object \n",
      " 4   Enddate                 164 non-null    object \n",
      " 5   code                    4217 non-null   int64  \n",
      " 6   active                  4217 non-null   bool   \n",
      " 7   postal_code             4217 non-null   int64  \n",
      " 8   Name_clean              4217 non-null   object \n",
      " 9   Address_clean           4217 non-null   object \n",
      " 10  matched_name            4217 non-null   object \n",
      " 11  Input Name              4217 non-null   object \n",
      " 12  Input Address           4217 non-null   object \n",
      " 13  Title                   2362 non-null   object \n",
      " 14  Rating                  4217 non-null   float64\n",
      " 15  Reviews                 4217 non-null   float64\n",
      " 16  Price Level             838 non-null    object \n",
      " 17  Tags                    1526 non-null   object \n",
      " 18  price_level_mapped      4217 non-null   int64  \n",
      " 19  price_level_missing     4217 non-null   bool   \n",
      " 20  rating_missing          4217 non-null   bool   \n",
      " 21  reviews_missing         4217 non-null   bool   \n",
      " 22  Input Name_clean        4217 non-null   object \n",
      " 23  Input Address_clean     4217 non-null   object \n",
      " 24  Total                   2712 non-null   float64\n",
      " 25  population_density_km2  2712 non-null   float64\n",
      " 26  restaurant_count        2712 non-null   float64\n",
      " 27  latitude                4217 non-null   float64\n",
      " 28  longitude               4217 non-null   float64\n",
      " 29  foot_traffic            4217 non-null   float64\n",
      " 30  closure_risk            4217 non-null   float64\n",
      " 31  random_val              4217 non-null   float64\n",
      " 32  simulated_closure       4217 non-null   bool   \n",
      " 33  Simulated_EndDate       1015 non-null   object \n",
      " 34  closure_simulated       4217 non-null   bool   \n",
      " 35  duration_days           4187 non-null   float64\n",
      " 36  is_closed               4217 non-null   int64  \n",
      " 37  duration_years          4187 non-null   float64\n",
      "dtypes: bool(6), float64(12), int64(5), object(15)\n",
      "memory usage: 1.1+ MB\n"
     ]
    }
   ],
   "source": [
    "merged_df.info()"
   ]
  },
  {
   "cell_type": "code",
   "execution_count": 27,
   "id": "ef9c3a8a",
   "metadata": {},
   "outputs": [
    {
     "name": "stdout",
     "output_type": "stream",
     "text": [
      "<class 'pandas.core.frame.DataFrame'>\n",
      "RangeIndex: 4217 entries, 0 to 4216\n",
      "Data columns (total 10 columns):\n",
      " #   Column              Non-Null Count  Dtype  \n",
      "---  ------              --------------  -----  \n",
      " 0   Name                4217 non-null   object \n",
      " 1   Address             4217 non-null   object \n",
      " 2   Startdate           4187 non-null   object \n",
      " 3   Simulated_EndDate   1015 non-null   object \n",
      " 4   code                4217 non-null   int64  \n",
      " 5   postal_code         4217 non-null   int64  \n",
      " 6   Rating              4217 non-null   float64\n",
      " 7   Reviews             4217 non-null   float64\n",
      " 8   price_level_mapped  4217 non-null   int64  \n",
      " 9   duration_days       4187 non-null   float64\n",
      "dtypes: float64(3), int64(3), object(4)\n",
      "memory usage: 329.6+ KB\n",
      "None\n"
     ]
    }
   ],
   "source": [
    "# Specify the columns you want to keep\n",
    "columns_to_keep = [\n",
    "    \"Name\",\n",
    "    \"Address\",\n",
    "    \"Startdate\",\n",
    "    \"Simulated_EndDate\",\n",
    "    \"code\",\n",
    "    \"postal_code\",\n",
    "    \"Rating\",\n",
    "    \"Reviews\",\n",
    "    \"price_level_mapped\",\n",
    "    \"duration_days\",\n",
    "]\n",
    "\n",
    "# Create a new DataFrame with only the selected columns\n",
    "filtered_df = merged_df[columns_to_keep]\n",
    "\n",
    "# Display the first few rows of the filtered DataFrame\n",
    "print(filtered_df.info())"
   ]
  },
  {
   "cell_type": "code",
   "execution_count": 28,
   "id": "04bc7794",
   "metadata": {},
   "outputs": [
    {
     "name": "stderr",
     "output_type": "stream",
     "text": [
      "C:\\Users\\Dell\\AppData\\Local\\Temp\\ipykernel_8860\\1886032730.py:8: SettingWithCopyWarning: \n",
      "A value is trying to be set on a copy of a slice from a DataFrame.\n",
      "Try using .loc[row_indexer,col_indexer] = value instead\n",
      "\n",
      "See the caveats in the documentation: https://pandas.pydata.org/pandas-docs/stable/user_guide/indexing.html#returning-a-view-versus-a-copy\n",
      "  filtered_df[\"Name_clean\"] = filtered_df[\"Name\"].apply(clean_text)\n",
      "C:\\Users\\Dell\\AppData\\Local\\Temp\\ipykernel_8860\\1886032730.py:9: SettingWithCopyWarning: \n",
      "A value is trying to be set on a copy of a slice from a DataFrame.\n",
      "Try using .loc[row_indexer,col_indexer] = value instead\n",
      "\n",
      "See the caveats in the documentation: https://pandas.pydata.org/pandas-docs/stable/user_guide/indexing.html#returning-a-view-versus-a-copy\n",
      "  filtered_df[\"Address_clean\"] = filtered_df[\"Address\"].apply(clean_text)\n"
     ]
    }
   ],
   "source": [
    "def clean_text(text):\n",
    "    if pd.isna(text):\n",
    "        return \"\"\n",
    "    return str(text).lower().strip()\n",
    "\n",
    "\n",
    "# Applichiamo la pulizia\n",
    "filtered_df[\"Name_clean\"] = filtered_df[\"Name\"].apply(clean_text)\n",
    "filtered_df[\"Address_clean\"] = filtered_df[\"Address\"].apply(clean_text)\n",
    "\n",
    "scraped_df[\"name_clean\"] = scraped_df[\"name\"].apply(clean_text)\n",
    "scraped_df[\"address_clean\"] = scraped_df[\"address\"].apply(clean_text)"
   ]
  },
  {
   "cell_type": "code",
   "execution_count": 29,
   "id": "d7a4fa7e",
   "metadata": {},
   "outputs": [],
   "source": [
    "scraped_df = scraped_df.drop(columns=[\"company type\"], errors=\"ignore\")"
   ]
  },
  {
   "cell_type": "code",
   "execution_count": 30,
   "id": "f2b3203b",
   "metadata": {},
   "outputs": [
    {
     "name": "stderr",
     "output_type": "stream",
     "text": [
      "C:\\Users\\Dell\\AppData\\Local\\Temp\\ipykernel_8860\\3819219491.py:4: SettingWithCopyWarning: \n",
      "A value is trying to be set on a copy of a slice from a DataFrame.\n",
      "Try using .loc[row_indexer,col_indexer] = value instead\n",
      "\n",
      "See the caveats in the documentation: https://pandas.pydata.org/pandas-docs/stable/user_guide/indexing.html#returning-a-view-versus-a-copy\n",
      "  filtered_df[\"match_key\"] = (\n",
      "C:\\Users\\Dell\\AppData\\Local\\Temp\\ipykernel_8860\\3819219491.py:23: SettingWithCopyWarning: \n",
      "A value is trying to be set on a copy of a slice from a DataFrame.\n",
      "Try using .loc[row_indexer,col_indexer] = value instead\n",
      "\n",
      "See the caveats in the documentation: https://pandas.pydata.org/pandas-docs/stable/user_guide/indexing.html#returning-a-view-versus-a-copy\n",
      "  filtered_df[\"matched_key\"] = filtered_df[\"match_key\"].apply(fuzzy_match)\n"
     ]
    }
   ],
   "source": [
    "from rapidfuzz import process\n",
    "\n",
    "# Crea chiavi di matching\n",
    "filtered_df[\"match_key\"] = (\n",
    "    filtered_df[\"Name_clean\"] + \" \" + filtered_df[\"Address_clean\"]\n",
    ")\n",
    "scraped_df[\"match_key\"] = scraped_df[\"name_clean\"] + \" \" + scraped_df[\"address_clean\"]\n",
    "\n",
    "# Lista delle chiavi del dataset di riferimento\n",
    "scraped_keys = scraped_df[\"match_key\"].tolist()\n",
    "\n",
    "\n",
    "# Fuzzy match\n",
    "def fuzzy_match(key):\n",
    "    match = process.extractOne(key, scraped_keys, score_cutoff=85)\n",
    "    if match:\n",
    "        return match[0]  # ritorna la chiave matchata\n",
    "    else:\n",
    "        return None\n",
    "\n",
    "\n",
    "# Applica fuzzy matching\n",
    "filtered_df[\"matched_key\"] = filtered_df[\"match_key\"].apply(fuzzy_match)"
   ]
  },
  {
   "cell_type": "code",
   "execution_count": 31,
   "id": "675e8281",
   "metadata": {},
   "outputs": [
    {
     "name": "stdout",
     "output_type": "stream",
     "text": [
      "Match trovati: 4217/4217 (100.0%)\n"
     ]
    }
   ],
   "source": [
    "matched = filtered_df[\"matched_key\"].notna().sum()\n",
    "total = len(filtered_df)\n",
    "print(f\"Match trovati: {matched}/{total} ({matched / total:.1%})\")"
   ]
  },
  {
   "cell_type": "code",
   "execution_count": 32,
   "id": "904f1180",
   "metadata": {},
   "outputs": [],
   "source": [
    "# Usiamo la chiave matched_key per unire i due dataset\n",
    "merged_df = filtered_df.merge(\n",
    "    scraped_df,\n",
    "    how=\"left\",\n",
    "    left_on=\"matched_key\",\n",
    "    right_on=\"match_key\",\n",
    "    suffixes=(\"\", \"_scraped\"),\n",
    ")"
   ]
  },
  {
   "cell_type": "code",
   "execution_count": 45,
   "id": "27a16351",
   "metadata": {},
   "outputs": [],
   "source": [
    "# Colonne da droppare\n",
    "columns_to_drop = [\n",
    "    \"Name_clean\",\n",
    "    \"Address_clean\",\n",
    "    \"matched_key\",\n",
    "    \"name_clean\",\n",
    "    \"address_clean\",\n",
    "    \"match_key\",\n",
    "]\n",
    "\n",
    "# Drop sicuro\n",
    "mergedFinal_df = mergedFinal_df.drop(columns=columns_to_drop, errors=\"ignore\")"
   ]
  },
  {
   "cell_type": "code",
   "execution_count": 34,
   "id": "1f0257e6",
   "metadata": {},
   "outputs": [
    {
     "name": "stdout",
     "output_type": "stream",
     "text": [
      "                                         Name  \\\n",
      "1416                               Pindsvinet   \n",
      "850   Pizza & Burger House v/Süleyman Arabaci   \n",
      "3594                      TM Service 2017 ApS   \n",
      "928                           Italo Disco ApS   \n",
      "2460                              Food Lab.dk   \n",
      "1635                           WEDO PIZZA ApS   \n",
      "678                               Gravenhorst   \n",
      "2200                Hooked Halgodt Skovshoved   \n",
      "1024                         A.G Solution ApS   \n",
      "641                              Åben x Pauli   \n",
      "\n",
      "                                                Address   latitude  longitude  \n",
      "1416                  Skovbrynet 2, 2800 Kongens Lyngby  55.766638  12.436325  \n",
      "850              Roskildevej 211, st., 2620 Albertslund  55.695149  11.728041  \n",
      "3594                    Vandkunsten 6, 1467 København K  55.676270  12.574264  \n",
      "928        Oehlenschlægersgade 5, st., 1663 København V  55.672009  12.549898  \n",
      "2460              Magnoliavej 12, st. tv, 2600 Glostrup  55.669826  12.515724  \n",
      "1635                          Folehaven 131, 2500 Valby  55.652349  12.491909  \n",
      "678                        Skipperstræde 1, 2791 Dragør  55.592762  12.672538  \n",
      "2200           Skovshoved Havn 10A, 2920 Charlottenlund  55.759535  12.599455  \n",
      "1024  Vallensbæk Stationstorv 73, 2665 Vallensbæk St...  55.623749  12.388107  \n",
      "641                  Slagtehusgade 15, 1715 København V  55.668249  12.561603  \n"
     ]
    }
   ],
   "source": [
    "print(merged_df[[\"Name\", \"Address\", \"latitude\", \"longitude\"]].sample(10))"
   ]
  },
  {
   "cell_type": "code",
   "execution_count": 63,
   "id": "909b0d0c",
   "metadata": {},
   "outputs": [],
   "source": [
    "# Salva il dataframe\n",
    "mergedFinal_df.to_csv(\"mergedFinal.csv\", index=False)"
   ]
  },
  {
   "cell_type": "code",
   "execution_count": 46,
   "id": "381e580d",
   "metadata": {},
   "outputs": [
    {
     "name": "stdout",
     "output_type": "stream",
     "text": [
      "<class 'pandas.core.frame.DataFrame'>\n",
      "RangeIndex: 4224 entries, 0 to 4223\n",
      "Data columns (total 13 columns):\n",
      " #   Column              Non-Null Count  Dtype  \n",
      "---  ------              --------------  -----  \n",
      " 0   Restaurant_Name     4224 non-null   object \n",
      " 1   Restaurant_Address  4224 non-null   object \n",
      " 2   Opening_Date        4194 non-null   object \n",
      " 3   Closing_Date        1017 non-null   object \n",
      " 4   Branchekod          4224 non-null   int64  \n",
      " 5   Postal_Code         4224 non-null   int64  \n",
      " 6   Rating              4224 non-null   float64\n",
      " 7   Number_of_Reviews   4224 non-null   float64\n",
      " 8   Price_Level         4224 non-null   int64  \n",
      " 9   Duration_in_Days    4194 non-null   float64\n",
      " 10  status              4224 non-null   object \n",
      " 11  Latitude            4198 non-null   float64\n",
      " 12  Longitude           4198 non-null   float64\n",
      "dtypes: float64(5), int64(3), object(5)\n",
      "memory usage: 429.1+ KB\n"
     ]
    }
   ],
   "source": [
    "mergedFinal_df.info()"
   ]
  },
  {
   "cell_type": "code",
   "execution_count": 49,
   "id": "8c562f93",
   "metadata": {},
   "outputs": [],
   "source": [
    "# Lista delle colonne da eliminare\n",
    "columns_to_drop = [\n",
    "    \"name\",\n",
    "    \"address\",\n",
    "    \"p_nummer\",\n",
    "    \"startdate\",\n",
    "    \"enddate\",\n",
    "    \"branchekode\",\n",
    "    \"zip\",\n",
    "    \"active\",\n",
    "    \"match_key_scraped\",\n",
    "]\n",
    "\n",
    "# Droppiamo\n",
    "mergedFinal_df = mergedFinal_df.drop(columns=columns_to_drop, errors=\"ignore\")"
   ]
  },
  {
   "cell_type": "code",
   "execution_count": 50,
   "id": "23e02d7c",
   "metadata": {},
   "outputs": [],
   "source": [
    "# Colonne da droppare\n",
    "columns_to_drop = [\n",
    "    \"Name_clean\",\n",
    "    \"Address_clean\",\n",
    "    \"matched_key\",\n",
    "    \"name_clean\",\n",
    "    \"address_clean\",\n",
    "    \"match_key\",\n",
    "]\n",
    "\n",
    "# Drop sicuro\n",
    "mergedFinal_df = mergedFinal_df.drop(columns=columns_to_drop, errors=\"ignore\")"
   ]
  },
  {
   "cell_type": "code",
   "execution_count": 53,
   "id": "e9e6ed9d",
   "metadata": {},
   "outputs": [],
   "source": [
    "# Rinomina le colonne in modo ordinato\n",
    "mergedFinal_df = mergedFinal_df.rename(\n",
    "    columns={\n",
    "        \"Name\": \"Restaurant_Name\",\n",
    "        \"Address\": \"Restaurant_Address\",\n",
    "        \"Startdate\": \"Opening_Date\",\n",
    "        \"Simulated_EndDate\": \"Closing_Date\",\n",
    "        \"code\": \"Branchekod\",\n",
    "        \"postal_code\": \"Postal_Code\",\n",
    "        \"Rating\": \"Rating\",\n",
    "        \"Reviews\": \"Number_of_Reviews\",\n",
    "        \"price_level_mapped\": \"Price_Level\",\n",
    "        \"duration_days\": \"Duration_in_Days\",\n",
    "        \"status\": \"Status\",\n",
    "        \"latitude\": \"Latitude\",\n",
    "        \"longitude\": \"Longitude\",\n",
    "    }\n",
    ")"
   ]
  },
  {
   "cell_type": "code",
   "execution_count": 54,
   "id": "94e59e46",
   "metadata": {},
   "outputs": [
    {
     "name": "stdout",
     "output_type": "stream",
     "text": [
      "<class 'pandas.core.frame.DataFrame'>\n",
      "RangeIndex: 4224 entries, 0 to 4223\n",
      "Data columns (total 13 columns):\n",
      " #   Column              Non-Null Count  Dtype  \n",
      "---  ------              --------------  -----  \n",
      " 0   Restaurant_Name     4224 non-null   object \n",
      " 1   Restaurant_Address  4224 non-null   object \n",
      " 2   Opening_Date        4194 non-null   object \n",
      " 3   Closing_Date        1017 non-null   object \n",
      " 4   Branchekod          4224 non-null   int64  \n",
      " 5   Postal_Code         4224 non-null   int64  \n",
      " 6   Rating              4224 non-null   float64\n",
      " 7   Number_of_Reviews   4224 non-null   float64\n",
      " 8   Price_Level         4224 non-null   int64  \n",
      " 9   Duration_in_Days    4194 non-null   float64\n",
      " 10  Status              4224 non-null   object \n",
      " 11  Latitude            4198 non-null   float64\n",
      " 12  Longitude           4198 non-null   float64\n",
      "dtypes: float64(5), int64(3), object(5)\n",
      "memory usage: 429.1+ KB\n"
     ]
    }
   ],
   "source": [
    "mergedFinal_df.info()"
   ]
  },
  {
   "cell_type": "code",
   "execution_count": 62,
   "id": "ba9ced47",
   "metadata": {},
   "outputs": [
    {
     "data": {
      "text/html": [
       "<div>\n",
       "<style scoped>\n",
       "    .dataframe tbody tr th:only-of-type {\n",
       "        vertical-align: middle;\n",
       "    }\n",
       "\n",
       "    .dataframe tbody tr th {\n",
       "        vertical-align: top;\n",
       "    }\n",
       "\n",
       "    .dataframe thead th {\n",
       "        text-align: right;\n",
       "    }\n",
       "</style>\n",
       "<table border=\"1\" class=\"dataframe\">\n",
       "  <thead>\n",
       "    <tr style=\"text-align: right;\">\n",
       "      <th></th>\n",
       "      <th>Restaurant_Name</th>\n",
       "      <th>Restaurant_Address</th>\n",
       "      <th>Opening_Date</th>\n",
       "      <th>Closing_Date</th>\n",
       "      <th>Branchekod</th>\n",
       "      <th>Postal_Code</th>\n",
       "      <th>Rating</th>\n",
       "      <th>Number_of_Reviews</th>\n",
       "      <th>Price_Level</th>\n",
       "      <th>Duration_in_Days</th>\n",
       "      <th>Status</th>\n",
       "      <th>Latitude</th>\n",
       "      <th>Longitude</th>\n",
       "    </tr>\n",
       "  </thead>\n",
       "  <tbody>\n",
       "  </tbody>\n",
       "</table>\n",
       "</div>"
      ],
      "text/plain": [
       "Empty DataFrame\n",
       "Columns: [Restaurant_Name, Restaurant_Address, Opening_Date, Closing_Date, Branchekod, Postal_Code, Rating, Number_of_Reviews, Price_Level, Duration_in_Days, Status, Latitude, Longitude]\n",
       "Index: []"
      ]
     },
     "execution_count": 62,
     "metadata": {},
     "output_type": "execute_result"
    }
   ],
   "source": [
    "mergedFinal_df[mergedFinal_df[\"Opening_Date\"].isna()]"
   ]
  },
  {
   "cell_type": "code",
   "execution_count": 60,
   "id": "d9ac4eb9",
   "metadata": {},
   "outputs": [],
   "source": [
    "mergedFinal_df = mergedFinal_df.dropna(subset=[\"Opening_Date\"])"
   ]
  },
  {
   "cell_type": "code",
   "execution_count": 61,
   "id": "5d8ecdc3",
   "metadata": {},
   "outputs": [
    {
     "name": "stdout",
     "output_type": "stream",
     "text": [
      "<class 'pandas.core.frame.DataFrame'>\n",
      "Index: 4194 entries, 0 to 4223\n",
      "Data columns (total 13 columns):\n",
      " #   Column              Non-Null Count  Dtype  \n",
      "---  ------              --------------  -----  \n",
      " 0   Restaurant_Name     4194 non-null   object \n",
      " 1   Restaurant_Address  4194 non-null   object \n",
      " 2   Opening_Date        4194 non-null   object \n",
      " 3   Closing_Date        1017 non-null   object \n",
      " 4   Branchekod          4194 non-null   int64  \n",
      " 5   Postal_Code         4194 non-null   int64  \n",
      " 6   Rating              4194 non-null   float64\n",
      " 7   Number_of_Reviews   4194 non-null   float64\n",
      " 8   Price_Level         4194 non-null   int64  \n",
      " 9   Duration_in_Days    4194 non-null   float64\n",
      " 10  Status              4194 non-null   object \n",
      " 11  Latitude            4168 non-null   float64\n",
      " 12  Longitude           4168 non-null   float64\n",
      "dtypes: float64(5), int64(3), object(5)\n",
      "memory usage: 458.7+ KB\n"
     ]
    }
   ],
   "source": [
    "mergedFinal_df.info()"
   ]
  }
 ],
 "metadata": {
  "kernelspec": {
   "display_name": "Python 3",
   "language": "python",
   "name": "python3"
  },
  "language_info": {
   "codemirror_mode": {
    "name": "ipython",
    "version": 3
   },
   "file_extension": ".py",
   "mimetype": "text/x-python",
   "name": "python",
   "nbconvert_exporter": "python",
   "pygments_lexer": "ipython3",
   "version": "3.11.9"
  }
 },
 "nbformat": 4,
 "nbformat_minor": 5
}
