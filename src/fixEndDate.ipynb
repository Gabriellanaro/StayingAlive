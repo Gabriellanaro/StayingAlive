{
 "cells": [
  {
   "cell_type": "code",
   "execution_count": 4,
   "id": "54ba528c",
   "metadata": {},
   "outputs": [
    {
     "name": "stdout",
     "output_type": "stream",
     "text": [
      "<class 'pandas.core.frame.DataFrame'>\n",
      "RangeIndex: 4343 entries, 0 to 4342\n",
      "Data columns (total 8 columns):\n",
      " #   Column       Non-Null Count  Dtype \n",
      "---  ------       --------------  ----- \n",
      " 0   Name         4343 non-null   object\n",
      " 1   Address      4343 non-null   object\n",
      " 2   P-nummer     4343 non-null   int64 \n",
      " 3   Startdate    4306 non-null   object\n",
      " 4   Enddate      188 non-null    object\n",
      " 5   code         4343 non-null   int64 \n",
      " 6   active       4343 non-null   bool  \n",
      " 7   postal_code  4343 non-null   int64 \n",
      "dtypes: bool(1), int64(3), object(4)\n",
      "memory usage: 241.9+ KB\n"
     ]
    }
   ],
   "source": [
    "import pandas as pd\n",
    "import numpy as np\n",
    "\n",
    "\n",
    "restaurants_ds = pd.read_csv(\"restaurants_df.csv\")\n",
    "restaurants_ds.info()"
   ]
  },
  {
   "cell_type": "code",
   "execution_count": 5,
   "id": "c07fe411",
   "metadata": {},
   "outputs": [
    {
     "name": "stdout",
     "output_type": "stream",
     "text": [
      "<class 'pandas.core.frame.DataFrame'>\n",
      "RangeIndex: 474 entries, 0 to 473\n",
      "Data columns (total 10 columns):\n",
      " #   Column                  Non-Null Count  Dtype  \n",
      "---  ------                  --------------  -----  \n",
      " 0   neighborhood_code       474 non-null    int64  \n",
      " 1   neighborhood_name       474 non-null    object \n",
      " 2   postal_code             474 non-null    int64  \n",
      " 3   postal_area             474 non-null    object \n",
      " 4   postal_code_m2          474 non-null    int64  \n",
      " 5   Total                   474 non-null    int64  \n",
      " 6   Men                     474 non-null    int64  \n",
      " 7   Women                   474 non-null    int64  \n",
      " 8   population_density_km2  471 non-null    float64\n",
      " 9   restaurant_count        474 non-null    int64  \n",
      "dtypes: float64(1), int64(7), object(2)\n",
      "memory usage: 37.2+ KB\n"
     ]
    }
   ],
   "source": [
    "population_ds = pd.read_csv(\"population_df.csv\")\n",
    "population_ds.info()"
   ]
  },
  {
   "cell_type": "code",
   "execution_count": 11,
   "id": "08985a9f",
   "metadata": {},
   "outputs": [
    {
     "name": "stdout",
     "output_type": "stream",
     "text": [
      "<class 'pandas.core.frame.DataFrame'>\n",
      "RangeIndex: 7062 entries, 0 to 7061\n",
      "Data columns (total 4 columns):\n",
      " #   Column         Non-Null Count  Dtype  \n",
      "---  ------         --------------  -----  \n",
      " 0   latitude       7062 non-null   float64\n",
      " 1   longitude      7062 non-null   float64\n",
      " 2   aadt_fod_7_19  7062 non-null   float64\n",
      " 3   hvdt_fod_7_19  7062 non-null   float64\n",
      "dtypes: float64(4)\n",
      "memory usage: 220.8 KB\n"
     ]
    }
   ],
   "source": [
    "footTraffic_ds = pd.read_csv(\n",
    "    \"C:/Users/Dell/OneDrive - Danmarks Tekniske Universitet/Git Hub/StayingAlive/expanded_pedestrian_traffic_interpolated.csv\"\n",
    ")\n",
    "footTraffic_ds.info()"
   ]
  },
  {
   "cell_type": "code",
   "execution_count": 16,
   "id": "74292c14",
   "metadata": {},
   "outputs": [
    {
     "name": "stdout",
     "output_type": "stream",
     "text": [
      "<class 'pandas.core.frame.DataFrame'>\n",
      "RangeIndex: 4552 entries, 0 to 4551\n",
      "Data columns (total 7 columns):\n",
      " #   Column         Non-Null Count  Dtype  \n",
      "---  ------         --------------  -----  \n",
      " 0   Input Name     4552 non-null   object \n",
      " 1   Input Address  4552 non-null   object \n",
      " 2   Title          2527 non-null   object \n",
      " 3   Rating         2397 non-null   object \n",
      " 4   Reviews        2372 non-null   float64\n",
      " 5   Price Level    920 non-null    object \n",
      " 6   Tags           1603 non-null   object \n",
      "dtypes: float64(1), object(6)\n",
      "memory usage: 249.1+ KB\n"
     ]
    }
   ],
   "source": [
    "mapsReviews_ds = pd.read_csv(\"scraping_correct/Datasets/maps_data_scraped.csv\")\n",
    "mapsReviews_ds.info()"
   ]
  },
  {
   "cell_type": "code",
   "execution_count": 17,
   "id": "67cc5356",
   "metadata": {},
   "outputs": [],
   "source": [
    "# mapping price level\n",
    "# Mappatura basata sulla reference che abbiamo deciso\n",
    "price_mapping = {\n",
    "    \"1-100 kr a persona\": 1,\n",
    "    \"1-200 kr a persona\": 1,\n",
    "    \"100-200 kr a persona\": 1,\n",
    "    \"100-300 kr a persona\": 2,\n",
    "    \"200-300 kr a persona\": 2,\n",
    "    \"200-400 kr a persona\": 2,\n",
    "    \"300-400 kr a persona\": 3,\n",
    "    \"300-500 kr a persona\": 3,\n",
    "    \"400-500 kr a persona\": 3,\n",
    "    \"400-600 kr a persona\": 3,\n",
    "    \"500-600 kr a persona\": 3,\n",
    "    \"600-700 kr a persona\": 4,\n",
    "    \"Più di 1000 kr a persona\": 5,\n",
    "    \"2000-4000 kr a persona\": 5,\n",
    "    \"1-10 â\\x82¬ a persona\": 1,  # 7–75 DKK ≈ low\n",
    "    \"30-40 â\\x82¬ a persona\": 2,  # 224–298 DKK ≈ mid-low\n",
    "}\n",
    "\n",
    "# Applichiamo la mappatura\n",
    "mapsReviews_ds[\"price_level_mapped\"] = mapsReviews_ds[\"Price Level\"].map(price_mapping)"
   ]
  },
  {
   "cell_type": "code",
   "execution_count": 21,
   "id": "cc6bae82",
   "metadata": {},
   "outputs": [],
   "source": [
    "mapsReviews_ds[\"price_level_missing\"] = mapsReviews_ds[\"price_level_mapped\"].isna()\n",
    "mapsReviews_ds[\"price_level_mapped\"] = mapsReviews_ds[\"price_level_mapped\"].fillna(2)"
   ]
  },
  {
   "cell_type": "code",
   "execution_count": 28,
   "id": "7f3ab4ef",
   "metadata": {},
   "outputs": [],
   "source": [
    "# Prima assicuriamoci che Rating sia numerico\n",
    "mapsReviews_ds[\"Rating\"] = pd.to_numeric(mapsReviews_ds[\"Rating\"], errors=\"coerce\")\n",
    "\n",
    "# Crea flag se manca\n",
    "mapsReviews_ds[\"rating_missing\"] = mapsReviews_ds[\"Rating\"].isna()\n",
    "\n",
    "# Riempie NaN con valore medio (3.5)\n",
    "mapsReviews_ds[\"Rating\"] = mapsReviews_ds[\"Rating\"].fillna(3.5)"
   ]
  },
  {
   "cell_type": "code",
   "execution_count": 29,
   "id": "03ced531",
   "metadata": {},
   "outputs": [],
   "source": [
    "# Assicuriamoci che Reviews sia numerico\n",
    "mapsReviews_ds[\"Reviews\"] = pd.to_numeric(mapsReviews_ds[\"Reviews\"], errors=\"coerce\")\n",
    "\n",
    "# Crea flag se manca\n",
    "mapsReviews_ds[\"reviews_missing\"] = mapsReviews_ds[\"Reviews\"].isna()\n",
    "\n",
    "# Riempie NaN con un valore tipo 5 recensioni\n",
    "mapsReviews_ds[\"Reviews\"] = mapsReviews_ds[\"Reviews\"].fillna(5)"
   ]
  },
  {
   "cell_type": "code",
   "execution_count": 30,
   "id": "455e1f73",
   "metadata": {},
   "outputs": [],
   "source": [
    "mapsReviews_ds.to_csv(\"mapsReviews_ds_NoNull.csv\", index=False)"
   ]
  },
  {
   "cell_type": "markdown",
   "id": "c8b64e19",
   "metadata": {},
   "source": [
    "# MERGE ALL DATASETS"
   ]
  },
  {
   "cell_type": "markdown",
   "id": "fd212771",
   "metadata": {},
   "source": [
    "## Restaurants + Reviews"
   ]
  },
  {
   "cell_type": "code",
   "execution_count": 31,
   "id": "b959be5a",
   "metadata": {},
   "outputs": [],
   "source": [
    "def clean_text(text):\n",
    "    if pd.isna(text):\n",
    "        return \"\"\n",
    "    return str(text).lower().strip().replace(\"  \", \" \")\n",
    "\n",
    "\n",
    "# Puliamo nei due dataset\n",
    "restaurants_ds[\"Name_clean\"] = restaurants_ds[\"Name\"].apply(clean_text)\n",
    "restaurants_ds[\"Address_clean\"] = restaurants_ds[\"Address\"].apply(clean_text)\n",
    "\n",
    "mapsReviews_ds[\"Input Name_clean\"] = mapsReviews_ds[\"Input Name\"].apply(clean_text)\n",
    "mapsReviews_ds[\"Input Address_clean\"] = mapsReviews_ds[\"Input Address\"].apply(\n",
    "    clean_text\n",
    ")"
   ]
  },
  {
   "cell_type": "code",
   "execution_count": 32,
   "id": "6a83951b",
   "metadata": {},
   "outputs": [
    {
     "name": "stdout",
     "output_type": "stream",
     "text": [
      "Collecting rapidfuzz\n",
      "  Downloading rapidfuzz-3.13.0-cp311-cp311-win_amd64.whl.metadata (12 kB)\n",
      "Downloading rapidfuzz-3.13.0-cp311-cp311-win_amd64.whl (1.6 MB)\n",
      "   ---------------------------------------- 0.0/1.6 MB ? eta -:--:--\n",
      "   ---------------------------------------- 0.0/1.6 MB ? eta -:--:--\n",
      "   ---------------------------------------- 0.0/1.6 MB ? eta -:--:--\n",
      "   ---------------------------------------- 0.0/1.6 MB ? eta -:--:--\n",
      "    --------------------------------------- 0.0/1.6 MB 145.2 kB/s eta 0:00:12\n",
      "   - -------------------------------------- 0.1/1.6 MB 328.2 kB/s eta 0:00:05\n",
      "   - -------------------------------------- 0.1/1.6 MB 328.2 kB/s eta 0:00:05\n",
      "   - -------------------------------------- 0.1/1.6 MB 231.0 kB/s eta 0:00:07\n",
      "   ---- ----------------------------------- 0.2/1.6 MB 517.2 kB/s eta 0:00:03\n",
      "   ---- ----------------------------------- 0.2/1.6 MB 517.2 kB/s eta 0:00:03\n",
      "   ------ --------------------------------- 0.3/1.6 MB 630.5 kB/s eta 0:00:03\n",
      "   ------ --------------------------------- 0.3/1.6 MB 587.7 kB/s eta 0:00:03\n",
      "   -------- ------------------------------- 0.4/1.6 MB 696.3 kB/s eta 0:00:02\n",
      "   ------------- -------------------------- 0.6/1.6 MB 1.0 MB/s eta 0:00:02\n",
      "   ------------------ --------------------- 0.8/1.6 MB 1.3 MB/s eta 0:00:01\n",
      "   --------------------------- ------------ 1.1/1.6 MB 1.8 MB/s eta 0:00:01\n",
      "   ------------------------------- -------- 1.3/1.6 MB 1.9 MB/s eta 0:00:01\n",
      "   ---------------------------------- ----- 1.4/1.6 MB 2.0 MB/s eta 0:00:01\n",
      "   ---------------------------------------- 1.6/1.6 MB 2.1 MB/s eta 0:00:00\n",
      "Installing collected packages: rapidfuzz\n",
      "Successfully installed rapidfuzz-3.13.0\n"
     ]
    },
    {
     "name": "stderr",
     "output_type": "stream",
     "text": [
      "\n",
      "[notice] A new release of pip is available: 23.3.1 -> 25.0.1\n",
      "[notice] To update, run: C:\\Users\\Dell\\AppData\\Local\\Microsoft\\WindowsApps\\PythonSoftwareFoundation.Python.3.11_qbz5n2kfra8p0\\python.exe -m pip install --upgrade pip\n"
     ]
    }
   ],
   "source": [
    "!pip install rapidfuzz"
   ]
  },
  {
   "cell_type": "code",
   "execution_count": 33,
   "id": "ed86d98c",
   "metadata": {},
   "outputs": [],
   "source": [
    "from rapidfuzz import process\n",
    "\n",
    "# Creiamo dizionario dei nomi delle review\n",
    "review_names = mapsReviews_ds[\"Input Name_clean\"].tolist()\n",
    "\n",
    "\n",
    "def fuzzy_match(name):\n",
    "    match = process.extractOne(\n",
    "        name, review_names, score_cutoff=80\n",
    "    )  # solo se >80% di similarità\n",
    "    if match:\n",
    "        return match[0]\n",
    "    return None\n",
    "\n",
    "\n",
    "# Applichiamo fuzzy matching\n",
    "restaurants_ds[\"matched_name\"] = restaurants_ds[\"Name_clean\"].apply(fuzzy_match)\n",
    "\n",
    "# Poi merge\n",
    "merged_df = restaurants_ds.merge(\n",
    "    mapsReviews_ds,\n",
    "    how=\"left\",\n",
    "    left_on=\"matched_name\",\n",
    "    right_on=\"Input Name_clean\",\n",
    "    suffixes=(\"\", \"_review\"),\n",
    ")"
   ]
  },
  {
   "cell_type": "code",
   "execution_count": 35,
   "id": "567efed1",
   "metadata": {},
   "outputs": [
    {
     "name": "stdout",
     "output_type": "stream",
     "text": [
      "Matched: 4721 (100.00%)\n",
      "Unmatched: 0 (0.00%)\n"
     ]
    }
   ],
   "source": [
    "# Supponiamo che il dataframe merged si chiami merged_df\n",
    "\n",
    "# Quanti ristoranti hanno trovato Rating (cioè matchato?)\n",
    "matched = merged_df[\"Rating\"].notna().sum()\n",
    "\n",
    "# Quanti ristoranti NON hanno trovato Rating?\n",
    "unmatched = merged_df[\"Rating\"].isna().sum()\n",
    "\n",
    "# Quanti ristoranti totali?\n",
    "total = len(merged_df)\n",
    "\n",
    "# Percentuali\n",
    "matched_pct = (matched / total) * 100\n",
    "unmatched_pct = (unmatched / total) * 100\n",
    "\n",
    "# Stampa il risultato\n",
    "print(f\"Matched: {matched} ({matched_pct:.2f}%)\")\n",
    "print(f\"Unmatched: {unmatched} ({unmatched_pct:.2f}%)\")"
   ]
  },
  {
   "cell_type": "markdown",
   "id": "fe499f54",
   "metadata": {},
   "source": [
    "## merged_df + population"
   ]
  },
  {
   "cell_type": "code",
   "execution_count": 38,
   "id": "e5ede388",
   "metadata": {},
   "outputs": [],
   "source": [
    "assert population_ds[\n",
    "    \"postal_code\"\n",
    "].is_unique, \"Errore: postal_code duplicati in population_ds\""
   ]
  },
  {
   "cell_type": "code",
   "execution_count": 39,
   "id": "a522f884",
   "metadata": {},
   "outputs": [],
   "source": [
    "merged_df = merged_df.merge(\n",
    "    population_ds[\n",
    "        [\"postal_code\", \"Total\", \"population_density_km2\", \"restaurant_count\"]\n",
    "    ],\n",
    "    how=\"left\",\n",
    "    on=\"postal_code\",\n",
    "    suffixes=(\"\", \"_population\"),\n",
    ")"
   ]
  },
  {
   "cell_type": "code",
   "execution_count": 40,
   "id": "2b2f85dc",
   "metadata": {},
   "outputs": [
    {
     "name": "stdout",
     "output_type": "stream",
     "text": [
      "<class 'pandas.core.frame.DataFrame'>\n",
      "RangeIndex: 4721 entries, 0 to 4720\n",
      "Data columns (total 27 columns):\n",
      " #   Column                  Non-Null Count  Dtype  \n",
      "---  ------                  --------------  -----  \n",
      " 0   Name                    4721 non-null   object \n",
      " 1   Address                 4721 non-null   object \n",
      " 2   P-nummer                4721 non-null   int64  \n",
      " 3   Startdate               4672 non-null   object \n",
      " 4   Enddate                 211 non-null    object \n",
      " 5   code                    4721 non-null   int64  \n",
      " 6   active                  4721 non-null   bool   \n",
      " 7   postal_code             4721 non-null   int64  \n",
      " 8   Name_clean              4721 non-null   object \n",
      " 9   Address_clean           4721 non-null   object \n",
      " 10  matched_name            4721 non-null   object \n",
      " 11  Input Name              4721 non-null   object \n",
      " 12  Input Address           4721 non-null   object \n",
      " 13  Title                   2661 non-null   object \n",
      " 14  Rating                  4721 non-null   float64\n",
      " 15  Reviews                 4721 non-null   float64\n",
      " 16  Price Level             1011 non-null   object \n",
      " 17  Tags                    1726 non-null   object \n",
      " 18  price_level_mapped      4721 non-null   float64\n",
      " 19  price_level_missing     4721 non-null   bool   \n",
      " 20  rating_missing          4721 non-null   bool   \n",
      " 21  reviews_missing         4721 non-null   bool   \n",
      " 22  Input Name_clean        4721 non-null   object \n",
      " 23  Input Address_clean     4721 non-null   object \n",
      " 24  Total                   3074 non-null   float64\n",
      " 25  population_density_km2  3074 non-null   float64\n",
      " 26  restaurant_count        3074 non-null   float64\n",
      "dtypes: bool(4), float64(6), int64(3), object(14)\n",
      "memory usage: 866.9+ KB\n"
     ]
    }
   ],
   "source": [
    "merged_df.info()"
   ]
  }
 ],
 "metadata": {
  "kernelspec": {
   "display_name": "Python 3",
   "language": "python",
   "name": "python3"
  },
  "language_info": {
   "codemirror_mode": {
    "name": "ipython",
    "version": 3
   },
   "file_extension": ".py",
   "mimetype": "text/x-python",
   "name": "python",
   "nbconvert_exporter": "python",
   "pygments_lexer": "ipython3",
   "version": "3.11.9"
  }
 },
 "nbformat": 4,
 "nbformat_minor": 5
}
