{
 "cells": [
  {
   "cell_type": "code",
   "execution_count": 4,
   "id": "54ba528c",
   "metadata": {},
   "outputs": [
    {
     "name": "stdout",
     "output_type": "stream",
     "text": [
      "<class 'pandas.core.frame.DataFrame'>\n",
      "RangeIndex: 4343 entries, 0 to 4342\n",
      "Data columns (total 8 columns):\n",
      " #   Column       Non-Null Count  Dtype \n",
      "---  ------       --------------  ----- \n",
      " 0   Name         4343 non-null   object\n",
      " 1   Address      4343 non-null   object\n",
      " 2   P-nummer     4343 non-null   int64 \n",
      " 3   Startdate    4306 non-null   object\n",
      " 4   Enddate      188 non-null    object\n",
      " 5   code         4343 non-null   int64 \n",
      " 6   active       4343 non-null   bool  \n",
      " 7   postal_code  4343 non-null   int64 \n",
      "dtypes: bool(1), int64(3), object(4)\n",
      "memory usage: 241.9+ KB\n"
     ]
    }
   ],
   "source": [
    "import pandas as pd\n",
    "import numpy as np\n",
    "\n",
    "\n",
    "restaurants_ds = pd.read_csv(\"restaurants_df.csv\")\n",
    "restaurants_ds.info()"
   ]
  },
  {
   "cell_type": "code",
   "execution_count": 5,
   "id": "c07fe411",
   "metadata": {},
   "outputs": [
    {
     "name": "stdout",
     "output_type": "stream",
     "text": [
      "<class 'pandas.core.frame.DataFrame'>\n",
      "RangeIndex: 474 entries, 0 to 473\n",
      "Data columns (total 10 columns):\n",
      " #   Column                  Non-Null Count  Dtype  \n",
      "---  ------                  --------------  -----  \n",
      " 0   neighborhood_code       474 non-null    int64  \n",
      " 1   neighborhood_name       474 non-null    object \n",
      " 2   postal_code             474 non-null    int64  \n",
      " 3   postal_area             474 non-null    object \n",
      " 4   postal_code_m2          474 non-null    int64  \n",
      " 5   Total                   474 non-null    int64  \n",
      " 6   Men                     474 non-null    int64  \n",
      " 7   Women                   474 non-null    int64  \n",
      " 8   population_density_km2  471 non-null    float64\n",
      " 9   restaurant_count        474 non-null    int64  \n",
      "dtypes: float64(1), int64(7), object(2)\n",
      "memory usage: 37.2+ KB\n"
     ]
    }
   ],
   "source": [
    "population_ds = pd.read_csv(\"population_df.csv\")\n",
    "population_ds.info()"
   ]
  },
  {
   "cell_type": "code",
   "execution_count": 11,
   "id": "08985a9f",
   "metadata": {},
   "outputs": [
    {
     "name": "stdout",
     "output_type": "stream",
     "text": [
      "<class 'pandas.core.frame.DataFrame'>\n",
      "RangeIndex: 7062 entries, 0 to 7061\n",
      "Data columns (total 4 columns):\n",
      " #   Column         Non-Null Count  Dtype  \n",
      "---  ------         --------------  -----  \n",
      " 0   latitude       7062 non-null   float64\n",
      " 1   longitude      7062 non-null   float64\n",
      " 2   aadt_fod_7_19  7062 non-null   float64\n",
      " 3   hvdt_fod_7_19  7062 non-null   float64\n",
      "dtypes: float64(4)\n",
      "memory usage: 220.8 KB\n"
     ]
    }
   ],
   "source": [
    "footTraffic_ds = pd.read_csv(\n",
    "    \"C:/Users/Dell/OneDrive - Danmarks Tekniske Universitet/Git Hub/StayingAlive/expanded_pedestrian_traffic_interpolated.csv\"\n",
    ")\n",
    "footTraffic_ds.info()"
   ]
  },
  {
   "cell_type": "code",
   "execution_count": 16,
   "id": "74292c14",
   "metadata": {},
   "outputs": [
    {
     "name": "stdout",
     "output_type": "stream",
     "text": [
      "<class 'pandas.core.frame.DataFrame'>\n",
      "RangeIndex: 4552 entries, 0 to 4551\n",
      "Data columns (total 7 columns):\n",
      " #   Column         Non-Null Count  Dtype  \n",
      "---  ------         --------------  -----  \n",
      " 0   Input Name     4552 non-null   object \n",
      " 1   Input Address  4552 non-null   object \n",
      " 2   Title          2527 non-null   object \n",
      " 3   Rating         2397 non-null   object \n",
      " 4   Reviews        2372 non-null   float64\n",
      " 5   Price Level    920 non-null    object \n",
      " 6   Tags           1603 non-null   object \n",
      "dtypes: float64(1), object(6)\n",
      "memory usage: 249.1+ KB\n"
     ]
    }
   ],
   "source": [
    "mapsReviews_ds = pd.read_csv(\"scraping_correct/Datasets/maps_data_scraped.csv\")\n",
    "mapsReviews_ds.info()"
   ]
  },
  {
   "cell_type": "code",
   "execution_count": 17,
   "id": "67cc5356",
   "metadata": {},
   "outputs": [],
   "source": [
    "# mapping price level\n",
    "# Mappatura basata sulla reference che abbiamo deciso\n",
    "price_mapping = {\n",
    "    \"1-100 kr a persona\": 1,\n",
    "    \"1-200 kr a persona\": 1,\n",
    "    \"100-200 kr a persona\": 1,\n",
    "    \"100-300 kr a persona\": 2,\n",
    "    \"200-300 kr a persona\": 2,\n",
    "    \"200-400 kr a persona\": 2,\n",
    "    \"300-400 kr a persona\": 3,\n",
    "    \"300-500 kr a persona\": 3,\n",
    "    \"400-500 kr a persona\": 3,\n",
    "    \"400-600 kr a persona\": 3,\n",
    "    \"500-600 kr a persona\": 3,\n",
    "    \"600-700 kr a persona\": 4,\n",
    "    \"Più di 1000 kr a persona\": 5,\n",
    "    \"2000-4000 kr a persona\": 5,\n",
    "    \"1-10 â\\x82¬ a persona\": 1,  # 7–75 DKK ≈ low\n",
    "    \"30-40 â\\x82¬ a persona\": 2,  # 224–298 DKK ≈ mid-low\n",
    "}\n",
    "\n",
    "# Applichiamo la mappatura\n",
    "mapsReviews_ds[\"price_level_mapped\"] = mapsReviews_ds[\"Price Level\"].map(price_mapping)"
   ]
  },
  {
   "cell_type": "code",
   "execution_count": 21,
   "id": "cc6bae82",
   "metadata": {},
   "outputs": [],
   "source": [
    "mapsReviews_ds[\"price_level_missing\"] = mapsReviews_ds[\"price_level_mapped\"].isna()\n",
    "mapsReviews_ds[\"price_level_mapped\"] = mapsReviews_ds[\"price_level_mapped\"].fillna(2)"
   ]
  },
  {
   "cell_type": "code",
   "execution_count": 28,
   "id": "7f3ab4ef",
   "metadata": {},
   "outputs": [],
   "source": [
    "# Prima assicuriamoci che Rating sia numerico\n",
    "mapsReviews_ds[\"Rating\"] = pd.to_numeric(mapsReviews_ds[\"Rating\"], errors=\"coerce\")\n",
    "\n",
    "# Crea flag se manca\n",
    "mapsReviews_ds[\"rating_missing\"] = mapsReviews_ds[\"Rating\"].isna()\n",
    "\n",
    "# Riempie NaN con valore medio (3.5)\n",
    "mapsReviews_ds[\"Rating\"] = mapsReviews_ds[\"Rating\"].fillna(3.5)"
   ]
  },
  {
   "cell_type": "code",
   "execution_count": 29,
   "id": "03ced531",
   "metadata": {},
   "outputs": [],
   "source": [
    "# Assicuriamoci che Reviews sia numerico\n",
    "mapsReviews_ds[\"Reviews\"] = pd.to_numeric(mapsReviews_ds[\"Reviews\"], errors=\"coerce\")\n",
    "\n",
    "# Crea flag se manca\n",
    "mapsReviews_ds[\"reviews_missing\"] = mapsReviews_ds[\"Reviews\"].isna()\n",
    "\n",
    "# Riempie NaN con un valore tipo 5 recensioni\n",
    "mapsReviews_ds[\"Reviews\"] = mapsReviews_ds[\"Reviews\"].fillna(5)"
   ]
  },
  {
   "cell_type": "code",
   "execution_count": 30,
   "id": "455e1f73",
   "metadata": {},
   "outputs": [],
   "source": [
    "mapsReviews_ds.to_csv(\"mapsReviews_ds_NoNull.csv\", index=False)"
   ]
  }
 ],
 "metadata": {
  "kernelspec": {
   "display_name": "Python 3",
   "language": "python",
   "name": "python3"
  },
  "language_info": {
   "codemirror_mode": {
    "name": "ipython",
    "version": 3
   },
   "file_extension": ".py",
   "mimetype": "text/x-python",
   "name": "python",
   "nbconvert_exporter": "python",
   "pygments_lexer": "ipython3",
   "version": "3.11.9"
  }
 },
 "nbformat": 4,
 "nbformat_minor": 5
}
