{
 "cells": [
  {
   "cell_type": "markdown",
   "metadata": {},
   "source": [
    "## Data cleaning and start survival analysis\n",
    "\n",
    "In quetso notebook c'è questo"
   ]
  },
  {
   "cell_type": "code",
   "execution_count": 1,
   "metadata": {},
   "outputs": [],
   "source": [
    "import pandas as pd\n",
    "import glob\n",
    "import os\n",
    "import re"
   ]
  },
  {
   "cell_type": "markdown",
   "metadata": {},
   "source": [
    "# Data Cleaning"
   ]
  },
  {
   "cell_type": "code",
   "execution_count": 24,
   "metadata": {},
   "outputs": [],
   "source": [
    "# Step 1: Load population data\n",
    "population_df = pd.read_csv(\n",
    "    \"scraping_correct/Datasets/complete_cleaned_copenhagen_population.csv\",\n",
    "    encoding=\"ISO-8859-1\",\n",
    ")"
   ]
  },
  {
   "cell_type": "code",
   "execution_count": 25,
   "metadata": {},
   "outputs": [
    {
     "name": "stdout",
     "output_type": "stream",
     "text": [
      "<class 'pandas.core.frame.DataFrame'>\n",
      "RangeIndex: 474 entries, 0 to 473\n",
      "Data columns (total 8 columns):\n",
      " #   Column             Non-Null Count  Dtype \n",
      "---  ------             --------------  ----- \n",
      " 0   neighborhood_id    474 non-null    int64 \n",
      " 1   neighborhood_name  474 non-null    object\n",
      " 2   postal_code        474 non-null    int64 \n",
      " 3   postal_area        474 non-null    object\n",
      " 4   postal_code_m2     474 non-null    object\n",
      " 5   Total              474 non-null    int64 \n",
      " 6   Men                474 non-null    int64 \n",
      " 7   Women              474 non-null    int64 \n",
      "dtypes: int64(5), object(3)\n",
      "memory usage: 29.8+ KB\n"
     ]
    }
   ],
   "source": [
    "population_df.info()"
   ]
  },
  {
   "cell_type": "code",
   "execution_count": 26,
   "metadata": {},
   "outputs": [
    {
     "name": "stdout",
     "output_type": "stream",
     "text": [
      "✅ Unione completata. File salvato come merged_companies.csv\n"
     ]
    }
   ],
   "source": [
    "# Cerca tutti i file CSV con nomi coerenti\n",
    "file_paths = glob.glob(\"scraping_correct/Datasets/Temp/scraped_companies_*.csv\")\n",
    "\n",
    "all_dfs = []\n",
    "\n",
    "for path in file_paths:\n",
    "    filename = os.path.basename(path)\n",
    "\n",
    "    # Estrai il codice a 6 cifre\n",
    "    try:\n",
    "        code = filename.split(\"_\")[2]\n",
    "    except IndexError:\n",
    "        code = \"000000\"  # fallback se il nome non è nel formato atteso\n",
    "\n",
    "    # Determina se è attivo\n",
    "    is_active = filename.lower().endswith(\"active.csv\")\n",
    "\n",
    "    # Carica il file\n",
    "    df = pd.read_csv(path)\n",
    "\n",
    "    # Aggiungi le colonne\n",
    "    df[\"code\"] = code\n",
    "    df[\"active\"] = is_active\n",
    "\n",
    "    all_dfs.append(df)\n",
    "\n",
    "# Unisci tutto in un unico DataFrame\n",
    "merged_df = pd.concat(all_dfs, ignore_index=True)\n",
    "\n",
    "# Salva il risultato\n",
    "merged_df.to_csv(\"merged_companies.csv\", index=False)\n",
    "\n",
    "print(\"✅ Unione completata. File salvato come merged_companies.csv\")"
   ]
  },
  {
   "cell_type": "code",
   "execution_count": 27,
   "metadata": {},
   "outputs": [],
   "source": [
    "# Funzione per estrarre il codice postale a 4 cifre dopo la prima virgola\n",
    "def extract_postal_code(address):\n",
    "    try:\n",
    "        # Cerca la sequenza \", XXXX\" dove X sono cifre\n",
    "        match = re.search(r\",\\s*(\\d{4})\", address)\n",
    "        return match.group(1) if match else None\n",
    "    except:\n",
    "        return None\n",
    "\n",
    "\n",
    "# Applica la funzione alla colonna Address\n",
    "merged_df[\"postal_code\"] = merged_df[\"Address\"].apply(extract_postal_code)"
   ]
  },
  {
   "cell_type": "code",
   "execution_count": 28,
   "metadata": {},
   "outputs": [
    {
     "data": {
      "text/html": [
       "<div>\n",
       "<style scoped>\n",
       "    .dataframe tbody tr th:only-of-type {\n",
       "        vertical-align: middle;\n",
       "    }\n",
       "\n",
       "    .dataframe tbody tr th {\n",
       "        vertical-align: top;\n",
       "    }\n",
       "\n",
       "    .dataframe thead th {\n",
       "        text-align: right;\n",
       "    }\n",
       "</style>\n",
       "<table border=\"1\" class=\"dataframe\">\n",
       "  <thead>\n",
       "    <tr style=\"text-align: right;\">\n",
       "      <th></th>\n",
       "      <th>Name</th>\n",
       "      <th>Address</th>\n",
       "      <th>P-nummer</th>\n",
       "      <th>Startdate</th>\n",
       "      <th>Enddate</th>\n",
       "      <th>code</th>\n",
       "      <th>active</th>\n",
       "      <th>postal_code</th>\n",
       "    </tr>\n",
       "  </thead>\n",
       "  <tbody>\n",
       "    <tr>\n",
       "      <th>0</th>\n",
       "      <td>Frankies Pizza Nørrebro</td>\n",
       "      <td>Sortedam Dossering 3B, 2200 København N</td>\n",
       "      <td>1019849178</td>\n",
       "      <td>30.10.2014</td>\n",
       "      <td>01.05.2025</td>\n",
       "      <td>561110</td>\n",
       "      <td>True</td>\n",
       "      <td>2200</td>\n",
       "    </tr>\n",
       "    <tr>\n",
       "      <th>1</th>\n",
       "      <td>Søartilleriet</td>\n",
       "      <td>Jorisvej 5, 2. 108, 2300 København S</td>\n",
       "      <td>1029736347</td>\n",
       "      <td>12.10.2023</td>\n",
       "      <td>NaN</td>\n",
       "      <td>561110</td>\n",
       "      <td>True</td>\n",
       "      <td>2300</td>\n",
       "    </tr>\n",
       "    <tr>\n",
       "      <th>2</th>\n",
       "      <td>Indian Flames</td>\n",
       "      <td>Griffenfeldsgade 13, 2200 København N</td>\n",
       "      <td>1029776292</td>\n",
       "      <td>01.11.2023</td>\n",
       "      <td>NaN</td>\n",
       "      <td>561110</td>\n",
       "      <td>True</td>\n",
       "      <td>2200</td>\n",
       "    </tr>\n",
       "    <tr>\n",
       "      <th>3</th>\n",
       "      <td>Veksø cafe &amp; Restaurant ApS</td>\n",
       "      <td>Veksø Bygade 13, 3670 Veksø Sjælland</td>\n",
       "      <td>1029823061</td>\n",
       "      <td>08.11.2023</td>\n",
       "      <td>NaN</td>\n",
       "      <td>561110</td>\n",
       "      <td>True</td>\n",
       "      <td>3670</td>\n",
       "    </tr>\n",
       "    <tr>\n",
       "      <th>4</th>\n",
       "      <td>Khun Juk ApS</td>\n",
       "      <td>Nyhavn 63D, 1051 København K</td>\n",
       "      <td>1029838999</td>\n",
       "      <td>15.11.2023</td>\n",
       "      <td>NaN</td>\n",
       "      <td>561110</td>\n",
       "      <td>True</td>\n",
       "      <td>1051</td>\n",
       "    </tr>\n",
       "  </tbody>\n",
       "</table>\n",
       "</div>"
      ],
      "text/plain": [
       "                          Name                                  Address  \\\n",
       "0      Frankies Pizza Nørrebro  Sortedam Dossering 3B, 2200 København N   \n",
       "1                Søartilleriet     Jorisvej 5, 2. 108, 2300 København S   \n",
       "2                Indian Flames    Griffenfeldsgade 13, 2200 København N   \n",
       "3  Veksø cafe & Restaurant ApS     Veksø Bygade 13, 3670 Veksø Sjælland   \n",
       "4                 Khun Juk ApS             Nyhavn 63D, 1051 København K   \n",
       "\n",
       "     P-nummer   Startdate     Enddate    code  active postal_code  \n",
       "0  1019849178  30.10.2014  01.05.2025  561110    True        2200  \n",
       "1  1029736347  12.10.2023         NaN  561110    True        2300  \n",
       "2  1029776292  01.11.2023         NaN  561110    True        2200  \n",
       "3  1029823061  08.11.2023         NaN  561110    True        3670  \n",
       "4  1029838999  15.11.2023         NaN  561110    True        1051  "
      ]
     },
     "execution_count": 28,
     "metadata": {},
     "output_type": "execute_result"
    }
   ],
   "source": [
    "merged_df = merged_df.drop(columns=[\"Status\"])\n",
    "merged_df = merged_df.drop(columns=[\"Company Type\"])\n",
    "merged_df.head()"
   ]
  },
  {
   "cell_type": "code",
   "execution_count": 29,
   "metadata": {},
   "outputs": [
    {
     "name": "stdout",
     "output_type": "stream",
     "text": [
      "<class 'pandas.core.frame.DataFrame'>\n",
      "RangeIndex: 474 entries, 0 to 473\n",
      "Data columns (total 8 columns):\n",
      " #   Column             Non-Null Count  Dtype \n",
      "---  ------             --------------  ----- \n",
      " 0   neighborhood_code  474 non-null    int64 \n",
      " 1   neighborhood_name  474 non-null    object\n",
      " 2   postal_code        474 non-null    int64 \n",
      " 3   postal_area        474 non-null    object\n",
      " 4   postal_code_m2     474 non-null    object\n",
      " 5   Total              474 non-null    int64 \n",
      " 6   Men                474 non-null    int64 \n",
      " 7   Women              474 non-null    int64 \n",
      "dtypes: int64(5), object(3)\n",
      "memory usage: 29.8+ KB\n"
     ]
    }
   ],
   "source": [
    "population_df = population_df.rename(columns={\"neighborhood_id\": \"neighborhood_code\"})\n",
    "population_df.info()"
   ]
  },
  {
   "cell_type": "code",
   "execution_count": 30,
   "metadata": {},
   "outputs": [],
   "source": [
    "population_df = population_df.replace(\"-\", 0)"
   ]
  },
  {
   "cell_type": "code",
   "execution_count": 31,
   "metadata": {},
   "outputs": [],
   "source": [
    "# Converte postal_code in stringa per evitare problemi nei join\n",
    "population_df[\"postal_code\"] = population_df[\"postal_code\"].astype(str)\n",
    "population_df[\"postal_code_m2\"] = population_df[\"postal_code_m2\"].astype(int)\n",
    "population_df[\"\"] = population_df[\"postal_code_m2\"].astype(int)\n",
    "population_df[\"postal_code_m2\"] = population_df[\"postal_code_m2\"].astype(int)\n",
    "merged_df[\"postal_code\"] = merged_df[\"postal_code\"].astype(str)\n",
    "\n",
    "\n",
    "# 1. Densità di popolazione (abitanti per km²)\n",
    "population_df[\"population_density_km2\"] = population_df[\"Total\"] / (\n",
    "    population_df[\"postal_code_m2\"] / 1_000_000\n",
    ")\n",
    "\n",
    "# 2. Conteggio ristoranti per codice postale\n",
    "restaurant_counts = (\n",
    "    merged_df.groupby(\"postal_code\").size().reset_index(name=\"restaurant_count\")\n",
    ")\n",
    "\n",
    "# 3. Join dei ristoranti con il DataFrame della popolazione\n",
    "population_df = population_df.merge(restaurant_counts, on=\"postal_code\", how=\"left\")\n",
    "population_df[\"restaurant_count\"] = (\n",
    "    population_df[\"restaurant_count\"].fillna(0).astype(int)\n",
    ")\n",
    "\n",
    "# Salva il nuovo dataset\n",
    "population_df.to_csv(\"population_df.csv\", index=False)"
   ]
  },
  {
   "cell_type": "code",
   "execution_count": 32,
   "metadata": {},
   "outputs": [
    {
     "data": {
      "text/html": [
       "<div>\n",
       "<style scoped>\n",
       "    .dataframe tbody tr th:only-of-type {\n",
       "        vertical-align: middle;\n",
       "    }\n",
       "\n",
       "    .dataframe tbody tr th {\n",
       "        vertical-align: top;\n",
       "    }\n",
       "\n",
       "    .dataframe thead th {\n",
       "        text-align: right;\n",
       "    }\n",
       "</style>\n",
       "<table border=\"1\" class=\"dataframe\">\n",
       "  <thead>\n",
       "    <tr style=\"text-align: right;\">\n",
       "      <th></th>\n",
       "      <th>neighborhood_code</th>\n",
       "      <th>neighborhood_name</th>\n",
       "      <th>postal_code</th>\n",
       "      <th>postal_area</th>\n",
       "      <th>postal_code_m2</th>\n",
       "      <th>Total</th>\n",
       "      <th>Men</th>\n",
       "      <th>Women</th>\n",
       "      <th></th>\n",
       "      <th>population_density_km2</th>\n",
       "      <th>restaurant_count</th>\n",
       "    </tr>\n",
       "  </thead>\n",
       "  <tbody>\n",
       "    <tr>\n",
       "      <th>0</th>\n",
       "      <td>101</td>\n",
       "      <td>København</td>\n",
       "      <td>1050</td>\n",
       "      <td>København K</td>\n",
       "      <td>39053</td>\n",
       "      <td>20</td>\n",
       "      <td>10</td>\n",
       "      <td>10</td>\n",
       "      <td>39053</td>\n",
       "      <td>512.124549</td>\n",
       "      <td>16</td>\n",
       "    </tr>\n",
       "    <tr>\n",
       "      <th>1</th>\n",
       "      <td>101</td>\n",
       "      <td>København</td>\n",
       "      <td>1051</td>\n",
       "      <td>København K</td>\n",
       "      <td>55643</td>\n",
       "      <td>399</td>\n",
       "      <td>191</td>\n",
       "      <td>208</td>\n",
       "      <td>55643</td>\n",
       "      <td>7170.713297</td>\n",
       "      <td>28</td>\n",
       "    </tr>\n",
       "    <tr>\n",
       "      <th>2</th>\n",
       "      <td>101</td>\n",
       "      <td>København</td>\n",
       "      <td>1052</td>\n",
       "      <td>København K</td>\n",
       "      <td>6563</td>\n",
       "      <td>421</td>\n",
       "      <td>204</td>\n",
       "      <td>217</td>\n",
       "      <td>6563</td>\n",
       "      <td>64147.493524</td>\n",
       "      <td>2</td>\n",
       "    </tr>\n",
       "    <tr>\n",
       "      <th>3</th>\n",
       "      <td>101</td>\n",
       "      <td>København</td>\n",
       "      <td>1053</td>\n",
       "      <td>København K</td>\n",
       "      <td>2434</td>\n",
       "      <td>404</td>\n",
       "      <td>181</td>\n",
       "      <td>223</td>\n",
       "      <td>2434</td>\n",
       "      <td>165981.922761</td>\n",
       "      <td>2</td>\n",
       "    </tr>\n",
       "    <tr>\n",
       "      <th>4</th>\n",
       "      <td>101</td>\n",
       "      <td>København</td>\n",
       "      <td>1054</td>\n",
       "      <td>København K</td>\n",
       "      <td>4953</td>\n",
       "      <td>392</td>\n",
       "      <td>201</td>\n",
       "      <td>191</td>\n",
       "      <td>4953</td>\n",
       "      <td>79143.953160</td>\n",
       "      <td>1</td>\n",
       "    </tr>\n",
       "  </tbody>\n",
       "</table>\n",
       "</div>"
      ],
      "text/plain": [
       "   neighborhood_code neighborhood_name postal_code  postal_area  \\\n",
       "0                101         København        1050  København K   \n",
       "1                101         København        1051  København K   \n",
       "2                101         København        1052  København K   \n",
       "3                101         København        1053  København K   \n",
       "4                101         København        1054  København K   \n",
       "\n",
       "   postal_code_m2  Total  Men  Women         population_density_km2  \\\n",
       "0           39053     20   10     10  39053              512.124549   \n",
       "1           55643    399  191    208  55643             7170.713297   \n",
       "2            6563    421  204    217   6563            64147.493524   \n",
       "3            2434    404  181    223   2434           165981.922761   \n",
       "4            4953    392  201    191   4953            79143.953160   \n",
       "\n",
       "   restaurant_count  \n",
       "0                16  \n",
       "1                28  \n",
       "2                 2  \n",
       "3                 2  \n",
       "4                 1  "
      ]
     },
     "execution_count": 32,
     "metadata": {},
     "output_type": "execute_result"
    }
   ],
   "source": [
    "population_df.head()"
   ]
  },
  {
   "cell_type": "markdown",
   "metadata": {},
   "source": [
    "# Sruvival Analysis"
   ]
  },
  {
   "cell_type": "markdown",
   "metadata": {},
   "source": [
    "We need to prepare the data for the first part of the survival analysis.\n",
    "\n",
    "1. We start with the Kaplan-Meier model to explore survival curves and detect patterns.\n",
    "2. After that, we'll integrate the Cox PH to quantify what matters and predict survival risk using your features."
   ]
  },
  {
   "cell_type": "markdown",
   "metadata": {},
   "source": [
    "## Kaplan-Meyer"
   ]
  },
  {
   "cell_type": "code",
   "execution_count": 3,
   "metadata": {},
   "outputs": [
    {
     "name": "stderr",
     "output_type": "stream",
     "text": [
      "C:\\Users\\Dell\\AppData\\Local\\Temp\\ipykernel_14792\\1719573381.py:7: UserWarning: Parsing dates in %d.%m.%Y format when dayfirst=False (the default) was specified. Pass `dayfirst=True` or specify a format to silence this warning.\n",
      "  survival_df[\"Startdate\"] = pd.to_datetime(survival_df[\"Startdate\"], errors=\"coerce\")\n",
      "C:\\Users\\Dell\\AppData\\Local\\Temp\\ipykernel_14792\\1719573381.py:7: SettingWithCopyWarning: \n",
      "A value is trying to be set on a copy of a slice from a DataFrame.\n",
      "Try using .loc[row_indexer,col_indexer] = value instead\n",
      "\n",
      "See the caveats in the documentation: https://pandas.pydata.org/pandas-docs/stable/user_guide/indexing.html#returning-a-view-versus-a-copy\n",
      "  survival_df[\"Startdate\"] = pd.to_datetime(survival_df[\"Startdate\"], errors=\"coerce\")\n",
      "C:\\Users\\Dell\\AppData\\Local\\Temp\\ipykernel_14792\\1719573381.py:8: SettingWithCopyWarning: \n",
      "A value is trying to be set on a copy of a slice from a DataFrame.\n",
      "Try using .loc[row_indexer,col_indexer] = value instead\n",
      "\n",
      "See the caveats in the documentation: https://pandas.pydata.org/pandas-docs/stable/user_guide/indexing.html#returning-a-view-versus-a-copy\n",
      "  survival_df[\"Enddate\"] = pd.to_datetime(survival_df[\"Enddate\"], errors=\"coerce\")\n",
      "C:\\Users\\Dell\\AppData\\Local\\Temp\\ipykernel_14792\\1719573381.py:15: SettingWithCopyWarning: \n",
      "A value is trying to be set on a copy of a slice from a DataFrame.\n",
      "Try using .loc[row_indexer,col_indexer] = value instead\n",
      "\n",
      "See the caveats in the documentation: https://pandas.pydata.org/pandas-docs/stable/user_guide/indexing.html#returning-a-view-versus-a-copy\n",
      "  survival_df[\"end_calc\"] = survival_df[\"Enddate\"].fillna(today)\n",
      "C:\\Users\\Dell\\AppData\\Local\\Temp\\ipykernel_14792\\1719573381.py:16: SettingWithCopyWarning: \n",
      "A value is trying to be set on a copy of a slice from a DataFrame.\n",
      "Try using .loc[row_indexer,col_indexer] = value instead\n",
      "\n",
      "See the caveats in the documentation: https://pandas.pydata.org/pandas-docs/stable/user_guide/indexing.html#returning-a-view-versus-a-copy\n",
      "  survival_df[\"duration_days\"] = (\n"
     ]
    },
    {
     "data": {
      "text/html": [
       "<div>\n",
       "<style scoped>\n",
       "    .dataframe tbody tr th:only-of-type {\n",
       "        vertical-align: middle;\n",
       "    }\n",
       "\n",
       "    .dataframe tbody tr th {\n",
       "        vertical-align: top;\n",
       "    }\n",
       "\n",
       "    .dataframe thead th {\n",
       "        text-align: right;\n",
       "    }\n",
       "</style>\n",
       "<table border=\"1\" class=\"dataframe\">\n",
       "  <thead>\n",
       "    <tr style=\"text-align: right;\">\n",
       "      <th></th>\n",
       "      <th>Name</th>\n",
       "      <th>Startdate</th>\n",
       "      <th>Enddate</th>\n",
       "      <th>active</th>\n",
       "      <th>postal_code</th>\n",
       "      <th>end_calc</th>\n",
       "      <th>duration_days</th>\n",
       "      <th>is_closed</th>\n",
       "    </tr>\n",
       "  </thead>\n",
       "  <tbody>\n",
       "    <tr>\n",
       "      <th>0</th>\n",
       "      <td>Frankies Pizza Nørrebro</td>\n",
       "      <td>2014-10-30</td>\n",
       "      <td>2025-01-05</td>\n",
       "      <td>True</td>\n",
       "      <td>2200</td>\n",
       "      <td>2025-01-05 00:00:00.000000</td>\n",
       "      <td>3720.0</td>\n",
       "      <td>0</td>\n",
       "    </tr>\n",
       "    <tr>\n",
       "      <th>1</th>\n",
       "      <td>Søartilleriet</td>\n",
       "      <td>2023-10-12</td>\n",
       "      <td>NaT</td>\n",
       "      <td>True</td>\n",
       "      <td>2300</td>\n",
       "      <td>2025-04-25 09:44:19.393518</td>\n",
       "      <td>561.0</td>\n",
       "      <td>0</td>\n",
       "    </tr>\n",
       "    <tr>\n",
       "      <th>2</th>\n",
       "      <td>Indian Flames</td>\n",
       "      <td>2023-11-01</td>\n",
       "      <td>NaT</td>\n",
       "      <td>True</td>\n",
       "      <td>2200</td>\n",
       "      <td>2025-04-25 09:44:19.393518</td>\n",
       "      <td>541.0</td>\n",
       "      <td>0</td>\n",
       "    </tr>\n",
       "    <tr>\n",
       "      <th>3</th>\n",
       "      <td>Veksø cafe &amp; Restaurant ApS</td>\n",
       "      <td>2023-11-08</td>\n",
       "      <td>NaT</td>\n",
       "      <td>True</td>\n",
       "      <td>3670</td>\n",
       "      <td>2025-04-25 09:44:19.393518</td>\n",
       "      <td>534.0</td>\n",
       "      <td>0</td>\n",
       "    </tr>\n",
       "    <tr>\n",
       "      <th>4</th>\n",
       "      <td>Khun Juk ApS</td>\n",
       "      <td>2023-11-15</td>\n",
       "      <td>NaT</td>\n",
       "      <td>True</td>\n",
       "      <td>1051</td>\n",
       "      <td>2025-04-25 09:44:19.393518</td>\n",
       "      <td>527.0</td>\n",
       "      <td>0</td>\n",
       "    </tr>\n",
       "  </tbody>\n",
       "</table>\n",
       "</div>"
      ],
      "text/plain": [
       "                          Name  Startdate    Enddate  active  postal_code  \\\n",
       "0      Frankies Pizza Nørrebro 2014-10-30 2025-01-05    True         2200   \n",
       "1                Søartilleriet 2023-10-12        NaT    True         2300   \n",
       "2                Indian Flames 2023-11-01        NaT    True         2200   \n",
       "3  Veksø cafe & Restaurant ApS 2023-11-08        NaT    True         3670   \n",
       "4                 Khun Juk ApS 2023-11-15        NaT    True         1051   \n",
       "\n",
       "                    end_calc  duration_days  is_closed  \n",
       "0 2025-01-05 00:00:00.000000         3720.0          0  \n",
       "1 2025-04-25 09:44:19.393518          561.0          0  \n",
       "2 2025-04-25 09:44:19.393518          541.0          0  \n",
       "3 2025-04-25 09:44:19.393518          534.0          0  \n",
       "4 2025-04-25 09:44:19.393518          527.0          0  "
      ]
     },
     "execution_count": 3,
     "metadata": {},
     "output_type": "execute_result"
    }
   ],
   "source": [
    "# Dataset preparation\n",
    "#  name | start_date | end_date | is_closed | duration_days | group\n",
    "restaurants_df = pd.read_csv(\"restaurants_df.csv\")\n",
    "survival_df = restaurants_df[[\"Name\", \"Startdate\", \"Enddate\", \"active\", \"postal_code\"]]\n",
    "\n",
    "# Convert Startdate and Enddate to datetime\n",
    "survival_df[\"Startdate\"] = pd.to_datetime(survival_df[\"Startdate\"], errors=\"coerce\")\n",
    "survival_df[\"Enddate\"] = pd.to_datetime(survival_df[\"Enddate\"], errors=\"coerce\")\n",
    "\n",
    "\n",
    "# Today's date (for open restaurants)\n",
    "today = pd.to_datetime(\"today\")\n",
    "\n",
    "# Duration in days\n",
    "survival_df[\"end_calc\"] = survival_df[\"Enddate\"].fillna(today)\n",
    "survival_df[\"duration_days\"] = (\n",
    "    survival_df[\"end_calc\"] - survival_df[\"Startdate\"]\n",
    ").dt.days\n",
    "\n",
    "# Event observed: 1 if restaurant closed, 0 if still active\n",
    "survival_df[\"is_closed\"] = survival_df[\"active\"].apply(lambda x: 0 if x else 1)\n",
    "\n",
    "survival_df.head()"
   ]
  },
  {
   "cell_type": "code",
   "execution_count": null,
   "metadata": {},
   "outputs": [],
   "source": [
    "# !pip install lifelines"
   ]
  },
  {
   "cell_type": "code",
   "execution_count": 5,
   "metadata": {},
   "outputs": [
    {
     "data": {
      "text/plain": [
       "Name             37\n",
       "Startdate         0\n",
       "Enddate           0\n",
       "active           37\n",
       "postal_code      37\n",
       "end_calc         37\n",
       "duration_days     0\n",
       "is_closed        37\n",
       "dtype: int64"
      ]
     },
     "execution_count": 5,
     "metadata": {},
     "output_type": "execute_result"
    }
   ],
   "source": [
    "pd.DataFrame.count(survival_df[survival_df[\"duration_days\"].isna()])"
   ]
  },
  {
   "cell_type": "code",
   "execution_count": 6,
   "metadata": {},
   "outputs": [],
   "source": [
    "survival_df = survival_df.dropna(subset=[\"Startdate\", \"duration_days\"])"
   ]
  },
  {
   "cell_type": "code",
   "execution_count": 7,
   "metadata": {},
   "outputs": [
    {
     "data": {
      "image/png": "[encoded data removed]",
      "text/plain": [
       "<Figure size 640x480 with 1 Axes>"
      ]
     },
     "metadata": {},
     "output_type": "display_data"
    }
   ],
   "source": [
    "from lifelines import KaplanMeierFitter\n",
    "import matplotlib.pyplot as plt\n",
    "\n",
    "# Load your data\n",
    "# df = pd.read_csv(\"your_restaurant_data.csv\")  # or use a DataFrame directly\n",
    "\n",
    "# Initialize Kaplan-Meier estimator\n",
    "kmf = KaplanMeierFitter()\n",
    "\n",
    "# Plot for all restaurants\n",
    "kmf.fit(\n",
    "    durations=survival_df[\"duration_days\"],\n",
    "    event_observed=survival_df[\"is_closed\"],\n",
    "    label=\"All Restaurants\",\n",
    ")\n",
    "kmf.plot_survival_function()\n",
    "plt.title(\"Survival of Restaurants in Copenhagen\")\n",
    "plt.xlabel(\"Days since opening\")\n",
    "plt.ylabel(\"Probability of being open\")\n",
    "plt.show()"
   ]
  },
  {
   "cell_type": "markdown",
   "metadata": {},
   "source": [
    "recommendation_score = α * pop_density - β * competition + γ * review_score + δ * survival_score\n"
   ]
  },
  {
   "cell_type": "markdown",
   "metadata": {},
   "source": [
    "## Cox Model"
   ]
  },
  {
   "cell_type": "markdown",
   "metadata": {},
   "source": [
    "It models the hazard of closing as a function of other features:\n",
    "\n",
    "\"How does price, rating, foot traffic, population, etc. influence the closure risk of a restaurant?\""
   ]
  },
  {
   "cell_type": "markdown",
   "metadata": {},
   "source": [
    "### Fix datasets"
   ]
  },
  {
   "cell_type": "code",
   "execution_count": 8,
   "metadata": {},
   "outputs": [
    {
     "name": "stdout",
     "output_type": "stream",
     "text": [
      "[nan '100-200 kr a persona' '400-500 kr a persona' '200-300 kr a persona'\n",
      " 'PiÃ¹ di 1000 kr a persona' '1-100 kr a persona' '300-400 kr a persona'\n",
      " '600-700 kr a persona' '100-300 kr a persona' '200-400 kr a persona'\n",
      " '1-200 kr a persona' '300-500 kr a persona' '400-600 kr a persona'\n",
      " '500-600 kr a persona' '30-40 â\\x82¬ a persona' '2000-4000 kr a persona'\n",
      " '1-10 â\\x82¬ a persona']\n"
     ]
    }
   ],
   "source": [
    "# Load the dataset\n",
    "maps_df = pd.read_csv(\n",
    "    \"scraping_correct/Datasets/maps_data_scraped.csv\",\n",
    "    encoding=\"ISO-8859-1\",\n",
    ")\n",
    "unique_price_levels = maps_df[\"Price Level\"].unique()\n",
    "print(unique_price_levels)"
   ]
  },
  {
   "cell_type": "code",
   "execution_count": 9,
   "metadata": {},
   "outputs": [
    {
     "name": "stdout",
     "output_type": "stream",
     "text": [
      "[nan  1.  3.  2.  4.  5.]\n"
     ]
    }
   ],
   "source": [
    "price_mapping = {\n",
    "    \"1-100 kr a persona\": 1,\n",
    "    \"1-200 kr a persona\": 1,\n",
    "    \"100-200 kr a persona\": 1,\n",
    "    \"100-300 kr a persona\": 2,\n",
    "    \"200-300 kr a persona\": 2,\n",
    "    \"200-400 kr a persona\": 2,\n",
    "    \"300-400 kr a persona\": 3,\n",
    "    \"300-500 kr a persona\": 3,\n",
    "    \"400-500 kr a persona\": 3,\n",
    "    \"400-600 kr a persona\": 3,\n",
    "    \"500-600 kr a persona\": 3,\n",
    "    \"600-700 kr a persona\": 4,\n",
    "    \"Più di 1000 kr a persona\": 5,\n",
    "    \"2000-4000 kr a persona\": 5,\n",
    "    \"1-10 â\\x82¬ a persona\": 1,  # ≈ 7–75 DKK\n",
    "    \"30-40 â\\x82¬ a persona\": 2,  # ≈ 224–298 DKK\n",
    "}\n",
    "\n",
    "maps_df[\"Price Level\"] = maps_df[\"Price Level\"].map(price_mapping)\n",
    "unique_price_levels = maps_df[\"Price Level\"].unique()\n",
    "print(unique_price_levels)"
   ]
  },
  {
   "cell_type": "code",
   "execution_count": 15,
   "metadata": {},
   "outputs": [
    {
     "data": {
      "text/plain": [
       "3643"
      ]
     },
     "execution_count": 15,
     "metadata": {},
     "output_type": "execute_result"
    }
   ],
   "source": [
    "maps_df[\"Price Level\"].isna().sum()\n",
    "# maps_df[\"Price Level\"].notna().sum()"
   ]
  },
  {
   "cell_type": "code",
   "execution_count": 16,
   "metadata": {},
   "outputs": [
    {
     "data": {
      "text/plain": [
       "Input Name          0\n",
       "Input Address       0\n",
       "Title            2025\n",
       "Rating           2155\n",
       "Reviews          2180\n",
       "Price Level      3643\n",
       "Tags             2949\n",
       "dtype: int64"
      ]
     },
     "execution_count": 16,
     "metadata": {},
     "output_type": "execute_result"
    }
   ],
   "source": [
    "maps_df.isna().sum()"
   ]
  }
 ],
 "metadata": {
  "kernelspec": {
   "display_name": "Python 3",
   "language": "python",
   "name": "python3"
  },
  "language_info": {
   "codemirror_mode": {
    "name": "ipython",
    "version": 3
   },
   "file_extension": ".py",
   "mimetype": "text/x-python",
   "name": "python",
   "nbconvert_exporter": "python",
   "pygments_lexer": "ipython3",
   "version": "3.11.9"
  }
 },
 "nbformat": 4,
 "nbformat_minor": 2
}
